{
 "cells": [
  {
   "cell_type": "markdown",
   "id": "16806150",
   "metadata": {},
   "source": [
    "### HR Analytics: Job Change of Data Scientists"
   ]
  },
  {
   "cell_type": "markdown",
   "id": "3f26f4d2",
   "metadata": {},
   "source": [
    "### Introduction\n",
    "This project analyzes a job-seekers dataset to prepare it for predictive modeling, such as job-change prediction. The goal is to ensure high data quality through exploratory analysis, missing value treatment, and rigorous cleaning. This serves as a foundational step for building machine learning models or creating actionable insights in the HR analytics domain."
   ]
  },
  {
   "cell_type": "markdown",
   "id": "32c8b2e3",
   "metadata": {},
   "source": [
    "### Project Highlights\n",
    "\n",
    "A real-World data preprocessing workflow designed for HR analytics. It emphasizes:\n",
    "    \n",
    "1. Comprehensive EDA Workflow : Covers dataset overview, indexing, statistical summaries, and data cleaning.\n",
    "2. Well-Structured Feature Table : Create a summary of all features, including their data types, counts, means, standard deviations, minimums, and maximums.\n",
    "    \n",
    "    "
   ]
  },
  {
   "cell_type": "markdown",
   "id": "ec247b65",
   "metadata": {},
   "source": [
    "### EDA(Exploratory Data Analysis) & Data Cleaning\n",
    "\n",
    "#### EDA(Exploratory Data Analysis) :\n",
    "\n",
    "EDA is the process of visually and statistically exploring a dataset to uncover patterns, trends, relationships, and anomalies. \n",
    "It helps data scientists understand the structure and quality of the data before applying any machine learning models or drawing conclusions.\n",
    "\n",
    "#### Major EDA operations\n",
    "1. Understanding the Dataset\n",
    "2. Indexing & Filtering\n",
    "3. statistical Analysis of dataset\n",
    "4. Identify NaN/Null values\n",
    "5. Identify Duplicate values\n",
    "6. Identify the Outliers\n",
    "\n",
    "\n",
    "#### Data Cleaning\n",
    "\n",
    "Data cleaning involves detecting and correcting (or removing) corrupt or inaccurate records from a dataset. This step ensures the data is consistent, accurate, and ready for analysis or modeling.\n",
    "\n",
    "#### Major Data cleaning Operations\n",
    "1. Fixing Data Inconsistencies\n",
    "2. Cleaning NaN/Null values\n",
    "3. Deleting Duplicate values\n",
    "4. Trimming Outlier\n",
    "5. Clipping method for removing outliers"
   ]
  },
  {
   "cell_type": "markdown",
   "id": "cd0b9659",
   "metadata": {},
   "source": [
    "### Importing the libraries"
   ]
  },
  {
   "cell_type": "code",
   "execution_count": 3,
   "id": "51364c11",
   "metadata": {},
   "outputs": [],
   "source": [
    "import pandas as pd\n",
    "import numpy as np\n",
    "import seaborn as sns\n",
    "import matplotlib.pyplot as plt"
   ]
  },
  {
   "cell_type": "markdown",
   "id": "4918c7ff",
   "metadata": {},
   "source": [
    "### Read the csv File"
   ]
  },
  {
   "cell_type": "code",
   "execution_count": 4,
   "id": "4452f523",
   "metadata": {},
   "outputs": [],
   "source": [
    "df = pd.read_csv(\"aug_test.csv\")"
   ]
  },
  {
   "cell_type": "code",
   "execution_count": 5,
   "id": "da5ad5cc",
   "metadata": {},
   "outputs": [
    {
     "data": {
      "text/html": [
       "<div>\n",
       "<style scoped>\n",
       "    .dataframe tbody tr th:only-of-type {\n",
       "        vertical-align: middle;\n",
       "    }\n",
       "\n",
       "    .dataframe tbody tr th {\n",
       "        vertical-align: top;\n",
       "    }\n",
       "\n",
       "    .dataframe thead th {\n",
       "        text-align: right;\n",
       "    }\n",
       "</style>\n",
       "<table border=\"1\" class=\"dataframe\">\n",
       "  <thead>\n",
       "    <tr style=\"text-align: right;\">\n",
       "      <th></th>\n",
       "      <th>enrollee_id</th>\n",
       "      <th>city</th>\n",
       "      <th>city_development_index</th>\n",
       "      <th>gender</th>\n",
       "      <th>relevent_experience</th>\n",
       "      <th>enrolled_university</th>\n",
       "      <th>education_level</th>\n",
       "      <th>major_discipline</th>\n",
       "      <th>experience</th>\n",
       "      <th>company_size</th>\n",
       "      <th>company_type</th>\n",
       "      <th>last_new_job</th>\n",
       "      <th>training_hours</th>\n",
       "    </tr>\n",
       "  </thead>\n",
       "  <tbody>\n",
       "    <tr>\n",
       "      <th>0</th>\n",
       "      <td>32403</td>\n",
       "      <td>city_41</td>\n",
       "      <td>0.827</td>\n",
       "      <td>Male</td>\n",
       "      <td>Has relevent experience</td>\n",
       "      <td>Full time course</td>\n",
       "      <td>Graduate</td>\n",
       "      <td>STEM</td>\n",
       "      <td>9</td>\n",
       "      <td>&lt;10</td>\n",
       "      <td>NaN</td>\n",
       "      <td>1</td>\n",
       "      <td>21</td>\n",
       "    </tr>\n",
       "    <tr>\n",
       "      <th>1</th>\n",
       "      <td>9858</td>\n",
       "      <td>city_103</td>\n",
       "      <td>0.920</td>\n",
       "      <td>Female</td>\n",
       "      <td>Has relevent experience</td>\n",
       "      <td>no_enrollment</td>\n",
       "      <td>Graduate</td>\n",
       "      <td>STEM</td>\n",
       "      <td>5</td>\n",
       "      <td>NaN</td>\n",
       "      <td>Pvt Ltd</td>\n",
       "      <td>1</td>\n",
       "      <td>98</td>\n",
       "    </tr>\n",
       "    <tr>\n",
       "      <th>2</th>\n",
       "      <td>31806</td>\n",
       "      <td>city_21</td>\n",
       "      <td>0.624</td>\n",
       "      <td>Male</td>\n",
       "      <td>No relevent experience</td>\n",
       "      <td>no_enrollment</td>\n",
       "      <td>High School</td>\n",
       "      <td>NaN</td>\n",
       "      <td>&lt;1</td>\n",
       "      <td>NaN</td>\n",
       "      <td>Pvt Ltd</td>\n",
       "      <td>never</td>\n",
       "      <td>15</td>\n",
       "    </tr>\n",
       "    <tr>\n",
       "      <th>3</th>\n",
       "      <td>27385</td>\n",
       "      <td>city_13</td>\n",
       "      <td>0.827</td>\n",
       "      <td>Male</td>\n",
       "      <td>Has relevent experience</td>\n",
       "      <td>no_enrollment</td>\n",
       "      <td>Masters</td>\n",
       "      <td>STEM</td>\n",
       "      <td>11</td>\n",
       "      <td>10/49</td>\n",
       "      <td>Pvt Ltd</td>\n",
       "      <td>1</td>\n",
       "      <td>39</td>\n",
       "    </tr>\n",
       "    <tr>\n",
       "      <th>4</th>\n",
       "      <td>27724</td>\n",
       "      <td>city_103</td>\n",
       "      <td>0.920</td>\n",
       "      <td>Male</td>\n",
       "      <td>Has relevent experience</td>\n",
       "      <td>no_enrollment</td>\n",
       "      <td>Graduate</td>\n",
       "      <td>STEM</td>\n",
       "      <td>&gt;20</td>\n",
       "      <td>10000+</td>\n",
       "      <td>Pvt Ltd</td>\n",
       "      <td>&gt;4</td>\n",
       "      <td>72</td>\n",
       "    </tr>\n",
       "    <tr>\n",
       "      <th>...</th>\n",
       "      <td>...</td>\n",
       "      <td>...</td>\n",
       "      <td>...</td>\n",
       "      <td>...</td>\n",
       "      <td>...</td>\n",
       "      <td>...</td>\n",
       "      <td>...</td>\n",
       "      <td>...</td>\n",
       "      <td>...</td>\n",
       "      <td>...</td>\n",
       "      <td>...</td>\n",
       "      <td>...</td>\n",
       "      <td>...</td>\n",
       "    </tr>\n",
       "    <tr>\n",
       "      <th>2124</th>\n",
       "      <td>1289</td>\n",
       "      <td>city_103</td>\n",
       "      <td>0.920</td>\n",
       "      <td>Male</td>\n",
       "      <td>No relevent experience</td>\n",
       "      <td>no_enrollment</td>\n",
       "      <td>Graduate</td>\n",
       "      <td>Humanities</td>\n",
       "      <td>16</td>\n",
       "      <td>NaN</td>\n",
       "      <td>Public Sector</td>\n",
       "      <td>4</td>\n",
       "      <td>15</td>\n",
       "    </tr>\n",
       "    <tr>\n",
       "      <th>2125</th>\n",
       "      <td>195</td>\n",
       "      <td>city_136</td>\n",
       "      <td>0.897</td>\n",
       "      <td>Male</td>\n",
       "      <td>Has relevent experience</td>\n",
       "      <td>no_enrollment</td>\n",
       "      <td>Masters</td>\n",
       "      <td>STEM</td>\n",
       "      <td>18</td>\n",
       "      <td>NaN</td>\n",
       "      <td>NaN</td>\n",
       "      <td>2</td>\n",
       "      <td>30</td>\n",
       "    </tr>\n",
       "    <tr>\n",
       "      <th>2126</th>\n",
       "      <td>31762</td>\n",
       "      <td>city_100</td>\n",
       "      <td>0.887</td>\n",
       "      <td>Male</td>\n",
       "      <td>No relevent experience</td>\n",
       "      <td>no_enrollment</td>\n",
       "      <td>Primary School</td>\n",
       "      <td>NaN</td>\n",
       "      <td>3</td>\n",
       "      <td>NaN</td>\n",
       "      <td>Pvt Ltd</td>\n",
       "      <td>never</td>\n",
       "      <td>18</td>\n",
       "    </tr>\n",
       "    <tr>\n",
       "      <th>2127</th>\n",
       "      <td>7873</td>\n",
       "      <td>city_102</td>\n",
       "      <td>0.804</td>\n",
       "      <td>Male</td>\n",
       "      <td>Has relevent experience</td>\n",
       "      <td>Full time course</td>\n",
       "      <td>High School</td>\n",
       "      <td>NaN</td>\n",
       "      <td>7</td>\n",
       "      <td>100-500</td>\n",
       "      <td>Public Sector</td>\n",
       "      <td>1</td>\n",
       "      <td>84</td>\n",
       "    </tr>\n",
       "    <tr>\n",
       "      <th>2128</th>\n",
       "      <td>12215</td>\n",
       "      <td>city_102</td>\n",
       "      <td>0.804</td>\n",
       "      <td>Male</td>\n",
       "      <td>Has relevent experience</td>\n",
       "      <td>no_enrollment</td>\n",
       "      <td>Masters</td>\n",
       "      <td>STEM</td>\n",
       "      <td>15</td>\n",
       "      <td>10000+</td>\n",
       "      <td>Pvt Ltd</td>\n",
       "      <td>2</td>\n",
       "      <td>11</td>\n",
       "    </tr>\n",
       "  </tbody>\n",
       "</table>\n",
       "<p>2129 rows × 13 columns</p>\n",
       "</div>"
      ],
      "text/plain": [
       "      enrollee_id      city  city_development_index  gender  \\\n",
       "0           32403   city_41                   0.827    Male   \n",
       "1            9858  city_103                   0.920  Female   \n",
       "2           31806   city_21                   0.624    Male   \n",
       "3           27385   city_13                   0.827    Male   \n",
       "4           27724  city_103                   0.920    Male   \n",
       "...           ...       ...                     ...     ...   \n",
       "2124         1289  city_103                   0.920    Male   \n",
       "2125          195  city_136                   0.897    Male   \n",
       "2126        31762  city_100                   0.887    Male   \n",
       "2127         7873  city_102                   0.804    Male   \n",
       "2128        12215  city_102                   0.804    Male   \n",
       "\n",
       "          relevent_experience enrolled_university education_level  \\\n",
       "0     Has relevent experience    Full time course        Graduate   \n",
       "1     Has relevent experience       no_enrollment        Graduate   \n",
       "2      No relevent experience       no_enrollment     High School   \n",
       "3     Has relevent experience       no_enrollment         Masters   \n",
       "4     Has relevent experience       no_enrollment        Graduate   \n",
       "...                       ...                 ...             ...   \n",
       "2124   No relevent experience       no_enrollment        Graduate   \n",
       "2125  Has relevent experience       no_enrollment         Masters   \n",
       "2126   No relevent experience       no_enrollment  Primary School   \n",
       "2127  Has relevent experience    Full time course     High School   \n",
       "2128  Has relevent experience       no_enrollment         Masters   \n",
       "\n",
       "     major_discipline experience company_size   company_type last_new_job  \\\n",
       "0                STEM          9          <10            NaN            1   \n",
       "1                STEM          5          NaN        Pvt Ltd            1   \n",
       "2                 NaN         <1          NaN        Pvt Ltd        never   \n",
       "3                STEM         11        10/49        Pvt Ltd            1   \n",
       "4                STEM        >20       10000+        Pvt Ltd           >4   \n",
       "...               ...        ...          ...            ...          ...   \n",
       "2124       Humanities         16          NaN  Public Sector            4   \n",
       "2125             STEM         18          NaN            NaN            2   \n",
       "2126              NaN          3          NaN        Pvt Ltd        never   \n",
       "2127              NaN          7      100-500  Public Sector            1   \n",
       "2128             STEM         15       10000+        Pvt Ltd            2   \n",
       "\n",
       "      training_hours  \n",
       "0                 21  \n",
       "1                 98  \n",
       "2                 15  \n",
       "3                 39  \n",
       "4                 72  \n",
       "...              ...  \n",
       "2124              15  \n",
       "2125              30  \n",
       "2126              18  \n",
       "2127              84  \n",
       "2128              11  \n",
       "\n",
       "[2129 rows x 13 columns]"
      ]
     },
     "execution_count": 5,
     "metadata": {},
     "output_type": "execute_result"
    }
   ],
   "source": [
    "df"
   ]
  },
  {
   "cell_type": "markdown",
   "id": "b869d6d1",
   "metadata": {},
   "source": [
    "### Understanding the Data sets"
   ]
  },
  {
   "cell_type": "markdown",
   "id": "8a705c2f",
   "metadata": {},
   "source": [
    " ####  ***It involves the data structures,features,data types and summary statistics.\n",
    " \n",
    " #### ***Identified presence of both categorical and numerical features."
   ]
  },
  {
   "cell_type": "markdown",
   "id": "6d9bb6d8",
   "metadata": {},
   "source": [
    "### Features Description\n",
    "\n",
    "##### Total Observations: 2,129\n",
    "\n",
    "##### Total Features: 13\n",
    "\n",
    "##### Data Types: Numerical (3), Categorical (10)\n",
    "\n",
    "\n",
    "\n",
    "enrollee_id : Unique ID for candidate\n",
    "\n",
    "city: City code\n",
    "\n",
    "city_ development _index : Developement index of the city (scaled)\n",
    "\n",
    "gender: Gender of candidate\n",
    "\n",
    "relevent_experience: Relevant experience of candidate\n",
    "\n",
    "enrolled_university: Type of University course enrolled if any\n",
    "\n",
    "education_level: Education level of candidate\n",
    "\n",
    "major_discipline :Education major discipline of candidate\n",
    "\n",
    "experience: Candidate total experience in years\n",
    "\n",
    "company_size: No of employees in current employer's company\n",
    "\n",
    "company_type : Type of current employer\n",
    "\n",
    "last_new_job: Difference in years between previous job and current job\n",
    "\n",
    "training_hours: training hours completed\n",
    "\n",
    "target: 0 – Not looking for job change, 1 – Looking for a job change"
   ]
  },
  {
   "cell_type": "markdown",
   "id": "17a51418",
   "metadata": {},
   "source": [
    "### Default view the first five rows"
   ]
  },
  {
   "cell_type": "code",
   "execution_count": 6,
   "id": "af3b4faa",
   "metadata": {},
   "outputs": [
    {
     "data": {
      "text/html": [
       "<div>\n",
       "<style scoped>\n",
       "    .dataframe tbody tr th:only-of-type {\n",
       "        vertical-align: middle;\n",
       "    }\n",
       "\n",
       "    .dataframe tbody tr th {\n",
       "        vertical-align: top;\n",
       "    }\n",
       "\n",
       "    .dataframe thead th {\n",
       "        text-align: right;\n",
       "    }\n",
       "</style>\n",
       "<table border=\"1\" class=\"dataframe\">\n",
       "  <thead>\n",
       "    <tr style=\"text-align: right;\">\n",
       "      <th></th>\n",
       "      <th>enrollee_id</th>\n",
       "      <th>city</th>\n",
       "      <th>city_development_index</th>\n",
       "      <th>gender</th>\n",
       "      <th>relevent_experience</th>\n",
       "      <th>enrolled_university</th>\n",
       "      <th>education_level</th>\n",
       "      <th>major_discipline</th>\n",
       "      <th>experience</th>\n",
       "      <th>company_size</th>\n",
       "      <th>company_type</th>\n",
       "      <th>last_new_job</th>\n",
       "      <th>training_hours</th>\n",
       "    </tr>\n",
       "  </thead>\n",
       "  <tbody>\n",
       "    <tr>\n",
       "      <th>0</th>\n",
       "      <td>32403</td>\n",
       "      <td>city_41</td>\n",
       "      <td>0.827</td>\n",
       "      <td>Male</td>\n",
       "      <td>Has relevent experience</td>\n",
       "      <td>Full time course</td>\n",
       "      <td>Graduate</td>\n",
       "      <td>STEM</td>\n",
       "      <td>9</td>\n",
       "      <td>&lt;10</td>\n",
       "      <td>NaN</td>\n",
       "      <td>1</td>\n",
       "      <td>21</td>\n",
       "    </tr>\n",
       "    <tr>\n",
       "      <th>1</th>\n",
       "      <td>9858</td>\n",
       "      <td>city_103</td>\n",
       "      <td>0.920</td>\n",
       "      <td>Female</td>\n",
       "      <td>Has relevent experience</td>\n",
       "      <td>no_enrollment</td>\n",
       "      <td>Graduate</td>\n",
       "      <td>STEM</td>\n",
       "      <td>5</td>\n",
       "      <td>NaN</td>\n",
       "      <td>Pvt Ltd</td>\n",
       "      <td>1</td>\n",
       "      <td>98</td>\n",
       "    </tr>\n",
       "    <tr>\n",
       "      <th>2</th>\n",
       "      <td>31806</td>\n",
       "      <td>city_21</td>\n",
       "      <td>0.624</td>\n",
       "      <td>Male</td>\n",
       "      <td>No relevent experience</td>\n",
       "      <td>no_enrollment</td>\n",
       "      <td>High School</td>\n",
       "      <td>NaN</td>\n",
       "      <td>&lt;1</td>\n",
       "      <td>NaN</td>\n",
       "      <td>Pvt Ltd</td>\n",
       "      <td>never</td>\n",
       "      <td>15</td>\n",
       "    </tr>\n",
       "    <tr>\n",
       "      <th>3</th>\n",
       "      <td>27385</td>\n",
       "      <td>city_13</td>\n",
       "      <td>0.827</td>\n",
       "      <td>Male</td>\n",
       "      <td>Has relevent experience</td>\n",
       "      <td>no_enrollment</td>\n",
       "      <td>Masters</td>\n",
       "      <td>STEM</td>\n",
       "      <td>11</td>\n",
       "      <td>10/49</td>\n",
       "      <td>Pvt Ltd</td>\n",
       "      <td>1</td>\n",
       "      <td>39</td>\n",
       "    </tr>\n",
       "    <tr>\n",
       "      <th>4</th>\n",
       "      <td>27724</td>\n",
       "      <td>city_103</td>\n",
       "      <td>0.920</td>\n",
       "      <td>Male</td>\n",
       "      <td>Has relevent experience</td>\n",
       "      <td>no_enrollment</td>\n",
       "      <td>Graduate</td>\n",
       "      <td>STEM</td>\n",
       "      <td>&gt;20</td>\n",
       "      <td>10000+</td>\n",
       "      <td>Pvt Ltd</td>\n",
       "      <td>&gt;4</td>\n",
       "      <td>72</td>\n",
       "    </tr>\n",
       "  </tbody>\n",
       "</table>\n",
       "</div>"
      ],
      "text/plain": [
       "   enrollee_id      city  city_development_index  gender  \\\n",
       "0        32403   city_41                   0.827    Male   \n",
       "1         9858  city_103                   0.920  Female   \n",
       "2        31806   city_21                   0.624    Male   \n",
       "3        27385   city_13                   0.827    Male   \n",
       "4        27724  city_103                   0.920    Male   \n",
       "\n",
       "       relevent_experience enrolled_university education_level  \\\n",
       "0  Has relevent experience    Full time course        Graduate   \n",
       "1  Has relevent experience       no_enrollment        Graduate   \n",
       "2   No relevent experience       no_enrollment     High School   \n",
       "3  Has relevent experience       no_enrollment         Masters   \n",
       "4  Has relevent experience       no_enrollment        Graduate   \n",
       "\n",
       "  major_discipline experience company_size company_type last_new_job  \\\n",
       "0             STEM          9          <10          NaN            1   \n",
       "1             STEM          5          NaN      Pvt Ltd            1   \n",
       "2              NaN         <1          NaN      Pvt Ltd        never   \n",
       "3             STEM         11        10/49      Pvt Ltd            1   \n",
       "4             STEM        >20       10000+      Pvt Ltd           >4   \n",
       "\n",
       "   training_hours  \n",
       "0              21  \n",
       "1              98  \n",
       "2              15  \n",
       "3              39  \n",
       "4              72  "
      ]
     },
     "execution_count": 6,
     "metadata": {},
     "output_type": "execute_result"
    }
   ],
   "source": [
    "df.head()"
   ]
  },
  {
   "cell_type": "markdown",
   "id": "9c4c8e45",
   "metadata": {},
   "source": [
    "### Default View the last five rows"
   ]
  },
  {
   "cell_type": "code",
   "execution_count": 7,
   "id": "eb26ab84",
   "metadata": {},
   "outputs": [
    {
     "data": {
      "text/html": [
       "<div>\n",
       "<style scoped>\n",
       "    .dataframe tbody tr th:only-of-type {\n",
       "        vertical-align: middle;\n",
       "    }\n",
       "\n",
       "    .dataframe tbody tr th {\n",
       "        vertical-align: top;\n",
       "    }\n",
       "\n",
       "    .dataframe thead th {\n",
       "        text-align: right;\n",
       "    }\n",
       "</style>\n",
       "<table border=\"1\" class=\"dataframe\">\n",
       "  <thead>\n",
       "    <tr style=\"text-align: right;\">\n",
       "      <th></th>\n",
       "      <th>enrollee_id</th>\n",
       "      <th>city</th>\n",
       "      <th>city_development_index</th>\n",
       "      <th>gender</th>\n",
       "      <th>relevent_experience</th>\n",
       "      <th>enrolled_university</th>\n",
       "      <th>education_level</th>\n",
       "      <th>major_discipline</th>\n",
       "      <th>experience</th>\n",
       "      <th>company_size</th>\n",
       "      <th>company_type</th>\n",
       "      <th>last_new_job</th>\n",
       "      <th>training_hours</th>\n",
       "    </tr>\n",
       "  </thead>\n",
       "  <tbody>\n",
       "    <tr>\n",
       "      <th>2124</th>\n",
       "      <td>1289</td>\n",
       "      <td>city_103</td>\n",
       "      <td>0.920</td>\n",
       "      <td>Male</td>\n",
       "      <td>No relevent experience</td>\n",
       "      <td>no_enrollment</td>\n",
       "      <td>Graduate</td>\n",
       "      <td>Humanities</td>\n",
       "      <td>16</td>\n",
       "      <td>NaN</td>\n",
       "      <td>Public Sector</td>\n",
       "      <td>4</td>\n",
       "      <td>15</td>\n",
       "    </tr>\n",
       "    <tr>\n",
       "      <th>2125</th>\n",
       "      <td>195</td>\n",
       "      <td>city_136</td>\n",
       "      <td>0.897</td>\n",
       "      <td>Male</td>\n",
       "      <td>Has relevent experience</td>\n",
       "      <td>no_enrollment</td>\n",
       "      <td>Masters</td>\n",
       "      <td>STEM</td>\n",
       "      <td>18</td>\n",
       "      <td>NaN</td>\n",
       "      <td>NaN</td>\n",
       "      <td>2</td>\n",
       "      <td>30</td>\n",
       "    </tr>\n",
       "    <tr>\n",
       "      <th>2126</th>\n",
       "      <td>31762</td>\n",
       "      <td>city_100</td>\n",
       "      <td>0.887</td>\n",
       "      <td>Male</td>\n",
       "      <td>No relevent experience</td>\n",
       "      <td>no_enrollment</td>\n",
       "      <td>Primary School</td>\n",
       "      <td>NaN</td>\n",
       "      <td>3</td>\n",
       "      <td>NaN</td>\n",
       "      <td>Pvt Ltd</td>\n",
       "      <td>never</td>\n",
       "      <td>18</td>\n",
       "    </tr>\n",
       "    <tr>\n",
       "      <th>2127</th>\n",
       "      <td>7873</td>\n",
       "      <td>city_102</td>\n",
       "      <td>0.804</td>\n",
       "      <td>Male</td>\n",
       "      <td>Has relevent experience</td>\n",
       "      <td>Full time course</td>\n",
       "      <td>High School</td>\n",
       "      <td>NaN</td>\n",
       "      <td>7</td>\n",
       "      <td>100-500</td>\n",
       "      <td>Public Sector</td>\n",
       "      <td>1</td>\n",
       "      <td>84</td>\n",
       "    </tr>\n",
       "    <tr>\n",
       "      <th>2128</th>\n",
       "      <td>12215</td>\n",
       "      <td>city_102</td>\n",
       "      <td>0.804</td>\n",
       "      <td>Male</td>\n",
       "      <td>Has relevent experience</td>\n",
       "      <td>no_enrollment</td>\n",
       "      <td>Masters</td>\n",
       "      <td>STEM</td>\n",
       "      <td>15</td>\n",
       "      <td>10000+</td>\n",
       "      <td>Pvt Ltd</td>\n",
       "      <td>2</td>\n",
       "      <td>11</td>\n",
       "    </tr>\n",
       "  </tbody>\n",
       "</table>\n",
       "</div>"
      ],
      "text/plain": [
       "      enrollee_id      city  city_development_index gender  \\\n",
       "2124         1289  city_103                   0.920   Male   \n",
       "2125          195  city_136                   0.897   Male   \n",
       "2126        31762  city_100                   0.887   Male   \n",
       "2127         7873  city_102                   0.804   Male   \n",
       "2128        12215  city_102                   0.804   Male   \n",
       "\n",
       "          relevent_experience enrolled_university education_level  \\\n",
       "2124   No relevent experience       no_enrollment        Graduate   \n",
       "2125  Has relevent experience       no_enrollment         Masters   \n",
       "2126   No relevent experience       no_enrollment  Primary School   \n",
       "2127  Has relevent experience    Full time course     High School   \n",
       "2128  Has relevent experience       no_enrollment         Masters   \n",
       "\n",
       "     major_discipline experience company_size   company_type last_new_job  \\\n",
       "2124       Humanities         16          NaN  Public Sector            4   \n",
       "2125             STEM         18          NaN            NaN            2   \n",
       "2126              NaN          3          NaN        Pvt Ltd        never   \n",
       "2127              NaN          7      100-500  Public Sector            1   \n",
       "2128             STEM         15       10000+        Pvt Ltd            2   \n",
       "\n",
       "      training_hours  \n",
       "2124              15  \n",
       "2125              30  \n",
       "2126              18  \n",
       "2127              84  \n",
       "2128              11  "
      ]
     },
     "execution_count": 7,
     "metadata": {},
     "output_type": "execute_result"
    }
   ],
   "source": [
    "df.tail()"
   ]
  },
  {
   "cell_type": "markdown",
   "id": "194af7a6",
   "metadata": {},
   "source": [
    "### view the random values"
   ]
  },
  {
   "cell_type": "code",
   "execution_count": 8,
   "id": "c38775f5",
   "metadata": {},
   "outputs": [
    {
     "data": {
      "text/html": [
       "<div>\n",
       "<style scoped>\n",
       "    .dataframe tbody tr th:only-of-type {\n",
       "        vertical-align: middle;\n",
       "    }\n",
       "\n",
       "    .dataframe tbody tr th {\n",
       "        vertical-align: top;\n",
       "    }\n",
       "\n",
       "    .dataframe thead th {\n",
       "        text-align: right;\n",
       "    }\n",
       "</style>\n",
       "<table border=\"1\" class=\"dataframe\">\n",
       "  <thead>\n",
       "    <tr style=\"text-align: right;\">\n",
       "      <th></th>\n",
       "      <th>enrollee_id</th>\n",
       "      <th>city</th>\n",
       "      <th>city_development_index</th>\n",
       "      <th>gender</th>\n",
       "      <th>relevent_experience</th>\n",
       "      <th>enrolled_university</th>\n",
       "      <th>education_level</th>\n",
       "      <th>major_discipline</th>\n",
       "      <th>experience</th>\n",
       "      <th>company_size</th>\n",
       "      <th>company_type</th>\n",
       "      <th>last_new_job</th>\n",
       "      <th>training_hours</th>\n",
       "    </tr>\n",
       "  </thead>\n",
       "  <tbody>\n",
       "    <tr>\n",
       "      <th>40</th>\n",
       "      <td>20178</td>\n",
       "      <td>city_45</td>\n",
       "      <td>0.89</td>\n",
       "      <td>Male</td>\n",
       "      <td>Has relevent experience</td>\n",
       "      <td>no_enrollment</td>\n",
       "      <td>Masters</td>\n",
       "      <td>STEM</td>\n",
       "      <td>13</td>\n",
       "      <td>NaN</td>\n",
       "      <td>Public Sector</td>\n",
       "      <td>1</td>\n",
       "      <td>20</td>\n",
       "    </tr>\n",
       "  </tbody>\n",
       "</table>\n",
       "</div>"
      ],
      "text/plain": [
       "    enrollee_id     city  city_development_index gender  \\\n",
       "40        20178  city_45                    0.89   Male   \n",
       "\n",
       "        relevent_experience enrolled_university education_level  \\\n",
       "40  Has relevent experience       no_enrollment         Masters   \n",
       "\n",
       "   major_discipline experience company_size   company_type last_new_job  \\\n",
       "40             STEM         13          NaN  Public Sector            1   \n",
       "\n",
       "    training_hours  \n",
       "40              20  "
      ]
     },
     "execution_count": 8,
     "metadata": {},
     "output_type": "execute_result"
    }
   ],
   "source": [
    "df.sample()"
   ]
  },
  {
   "cell_type": "markdown",
   "id": "5646d7c9",
   "metadata": {},
   "source": [
    "### view the dataset shape(rows,columns)"
   ]
  },
  {
   "cell_type": "code",
   "execution_count": 9,
   "id": "4c909c99",
   "metadata": {},
   "outputs": [
    {
     "data": {
      "text/plain": [
       "(2129, 13)"
      ]
     },
     "execution_count": 9,
     "metadata": {},
     "output_type": "execute_result"
    }
   ],
   "source": [
    "df.shape"
   ]
  },
  {
   "cell_type": "markdown",
   "id": "69910246",
   "metadata": {},
   "source": [
    "### view the object data types with columns"
   ]
  },
  {
   "cell_type": "code",
   "execution_count": 10,
   "id": "af7436d6",
   "metadata": {},
   "outputs": [
    {
     "data": {
      "text/plain": [
       "Index(['city', 'gender', 'relevent_experience', 'enrolled_university',\n",
       "       'education_level', 'major_discipline', 'experience', 'company_size',\n",
       "       'company_type', 'last_new_job'],\n",
       "      dtype='object')"
      ]
     },
     "execution_count": 10,
     "metadata": {},
     "output_type": "execute_result"
    }
   ],
   "source": [
    "df.select_dtypes(include=\"object\").columns"
   ]
  },
  {
   "cell_type": "markdown",
   "id": "eb1caaf4",
   "metadata": {},
   "source": [
    "### column names & data types"
   ]
  },
  {
   "cell_type": "code",
   "execution_count": 11,
   "id": "81d37b7a",
   "metadata": {},
   "outputs": [
    {
     "name": "stdout",
     "output_type": "stream",
     "text": [
      "<class 'pandas.core.frame.DataFrame'>\n",
      "RangeIndex: 2129 entries, 0 to 2128\n",
      "Data columns (total 13 columns):\n",
      " #   Column                  Non-Null Count  Dtype  \n",
      "---  ------                  --------------  -----  \n",
      " 0   enrollee_id             2129 non-null   int64  \n",
      " 1   city                    2129 non-null   object \n",
      " 2   city_development_index  2129 non-null   float64\n",
      " 3   gender                  1621 non-null   object \n",
      " 4   relevent_experience     2129 non-null   object \n",
      " 5   enrolled_university     2098 non-null   object \n",
      " 6   education_level         2077 non-null   object \n",
      " 7   major_discipline        1817 non-null   object \n",
      " 8   experience              2124 non-null   object \n",
      " 9   company_size            1507 non-null   object \n",
      " 10  company_type            1495 non-null   object \n",
      " 11  last_new_job            2089 non-null   object \n",
      " 12  training_hours          2129 non-null   int64  \n",
      "dtypes: float64(1), int64(2), object(10)\n",
      "memory usage: 216.4+ KB\n"
     ]
    }
   ],
   "source": [
    "df.info()"
   ]
  },
  {
   "cell_type": "markdown",
   "id": "d9ce8509",
   "metadata": {},
   "source": [
    "### pair plot\n",
    "#### It creates a pairwise plots for all numerical columns in a DataFrame.\n",
    "#### It helps visualize :\n",
    "  ***Relationships between pairs of variables.\n",
    "  \n",
    "  ***Correlations (linear or non-linear patterns)."
   ]
  },
  {
   "cell_type": "code",
   "execution_count": 12,
   "id": "9455a4e6",
   "metadata": {},
   "outputs": [
    {
     "data": {
      "text/plain": [
       "<seaborn.axisgrid.PairGrid at 0x2279e18f0d0>"
      ]
     },
     "execution_count": 12,
     "metadata": {},
     "output_type": "execute_result"
    },
    {
     "data": {
      "image/png": "[encoded data removed]",
      "text/plain": [
       "<Figure size 750x750 with 12 Axes>"
      ]
     },
     "metadata": {},
     "output_type": "display_data"
    }
   ],
   "source": [
    "sns.pairplot(df)"
   ]
  },
  {
   "cell_type": "markdown",
   "id": "340705a7",
   "metadata": {},
   "source": [
    "### Insights :\n",
    "\n",
    "The city_development_index only has a few different values, so it looks like it was either grouped into levels or measured in set steps.\n",
    "\n",
    "There doesn’t seem to be a strong linear relationship between any two features in the data.\n",
    "\n",
    "It might help to use convert some features into categories to get better results when analyzing the data further."
   ]
  },
  {
   "cell_type": "markdown",
   "id": "718e4ece",
   "metadata": {},
   "source": [
    "#### Checking the null values"
   ]
  },
  {
   "cell_type": "code",
   "execution_count": 13,
   "id": "b950fbff",
   "metadata": {},
   "outputs": [
    {
     "data": {
      "text/plain": [
       "enrollee_id                 0\n",
       "city                        0\n",
       "city_development_index      0\n",
       "gender                    508\n",
       "relevent_experience         0\n",
       "enrolled_university        31\n",
       "education_level            52\n",
       "major_discipline          312\n",
       "experience                  5\n",
       "company_size              622\n",
       "company_type              634\n",
       "last_new_job               40\n",
       "training_hours              0\n",
       "dtype: int64"
      ]
     },
     "execution_count": 13,
     "metadata": {},
     "output_type": "execute_result"
    }
   ],
   "source": [
    "df.isnull().sum()"
   ]
  },
  {
   "cell_type": "markdown",
   "id": "3b86e84b",
   "metadata": {},
   "source": [
    "### Summary of statistics"
   ]
  },
  {
   "cell_type": "code",
   "execution_count": 14,
   "id": "6f98043a",
   "metadata": {},
   "outputs": [
    {
     "data": {
      "text/html": [
       "<div>\n",
       "<style scoped>\n",
       "    .dataframe tbody tr th:only-of-type {\n",
       "        vertical-align: middle;\n",
       "    }\n",
       "\n",
       "    .dataframe tbody tr th {\n",
       "        vertical-align: top;\n",
       "    }\n",
       "\n",
       "    .dataframe thead th {\n",
       "        text-align: right;\n",
       "    }\n",
       "</style>\n",
       "<table border=\"1\" class=\"dataframe\">\n",
       "  <thead>\n",
       "    <tr style=\"text-align: right;\">\n",
       "      <th></th>\n",
       "      <th>enrollee_id</th>\n",
       "      <th>city_development_index</th>\n",
       "      <th>training_hours</th>\n",
       "    </tr>\n",
       "  </thead>\n",
       "  <tbody>\n",
       "    <tr>\n",
       "      <th>count</th>\n",
       "      <td>2129.000000</td>\n",
       "      <td>2129.000000</td>\n",
       "      <td>2129.000000</td>\n",
       "    </tr>\n",
       "    <tr>\n",
       "      <th>mean</th>\n",
       "      <td>16861.614843</td>\n",
       "      <td>0.824984</td>\n",
       "      <td>64.983091</td>\n",
       "    </tr>\n",
       "    <tr>\n",
       "      <th>std</th>\n",
       "      <td>9576.846029</td>\n",
       "      <td>0.125074</td>\n",
       "      <td>60.238660</td>\n",
       "    </tr>\n",
       "    <tr>\n",
       "      <th>min</th>\n",
       "      <td>3.000000</td>\n",
       "      <td>0.448000</td>\n",
       "      <td>1.000000</td>\n",
       "    </tr>\n",
       "    <tr>\n",
       "      <th>25%</th>\n",
       "      <td>8562.000000</td>\n",
       "      <td>0.698000</td>\n",
       "      <td>23.000000</td>\n",
       "    </tr>\n",
       "    <tr>\n",
       "      <th>50%</th>\n",
       "      <td>16816.000000</td>\n",
       "      <td>0.903000</td>\n",
       "      <td>47.000000</td>\n",
       "    </tr>\n",
       "    <tr>\n",
       "      <th>75%</th>\n",
       "      <td>25129.000000</td>\n",
       "      <td>0.920000</td>\n",
       "      <td>86.000000</td>\n",
       "    </tr>\n",
       "    <tr>\n",
       "      <th>max</th>\n",
       "      <td>33353.000000</td>\n",
       "      <td>0.949000</td>\n",
       "      <td>334.000000</td>\n",
       "    </tr>\n",
       "  </tbody>\n",
       "</table>\n",
       "</div>"
      ],
      "text/plain": [
       "        enrollee_id  city_development_index  training_hours\n",
       "count   2129.000000             2129.000000     2129.000000\n",
       "mean   16861.614843                0.824984       64.983091\n",
       "std     9576.846029                0.125074       60.238660\n",
       "min        3.000000                0.448000        1.000000\n",
       "25%     8562.000000                0.698000       23.000000\n",
       "50%    16816.000000                0.903000       47.000000\n",
       "75%    25129.000000                0.920000       86.000000\n",
       "max    33353.000000                0.949000      334.000000"
      ]
     },
     "execution_count": 14,
     "metadata": {},
     "output_type": "execute_result"
    }
   ],
   "source": [
    "df.describe()"
   ]
  },
  {
   "cell_type": "markdown",
   "id": "55157e65",
   "metadata": {},
   "source": [
    "### UNIQUE :\n",
    "\n",
    " ***View & Identify the number of categories in that particular column"
   ]
  },
  {
   "cell_type": "code",
   "execution_count": 15,
   "id": "44def67d",
   "metadata": {},
   "outputs": [
    {
     "data": {
      "text/plain": [
       "array(['Full time course', 'no_enrollment', 'Part time course', nan],\n",
       "      dtype=object)"
      ]
     },
     "execution_count": 15,
     "metadata": {},
     "output_type": "execute_result"
    }
   ],
   "source": [
    "df.enrolled_university.unique()"
   ]
  },
  {
   "cell_type": "code",
   "execution_count": 16,
   "id": "57fb71e8",
   "metadata": {},
   "outputs": [
    {
     "data": {
      "text/plain": [
       "array(['Male', 'Female', nan, 'Other'], dtype=object)"
      ]
     },
     "execution_count": 16,
     "metadata": {},
     "output_type": "execute_result"
    }
   ],
   "source": [
    "df.gender.unique()"
   ]
  },
  {
   "cell_type": "code",
   "execution_count": 17,
   "id": "22162548",
   "metadata": {},
   "outputs": [
    {
     "data": {
      "text/plain": [
       "array(['Graduate', 'High School', 'Masters', nan, 'Phd', 'Primary School'],\n",
       "      dtype=object)"
      ]
     },
     "execution_count": 17,
     "metadata": {},
     "output_type": "execute_result"
    }
   ],
   "source": [
    "df.education_level.unique()"
   ]
  },
  {
   "cell_type": "code",
   "execution_count": 18,
   "id": "10ec7f76",
   "metadata": {},
   "outputs": [
    {
     "data": {
      "text/plain": [
       "array(['STEM', nan, 'Other', 'Business Degree', 'Arts', 'Humanities',\n",
       "       'No Major'], dtype=object)"
      ]
     },
     "execution_count": 18,
     "metadata": {},
     "output_type": "execute_result"
    }
   ],
   "source": [
    "df.major_discipline.unique()"
   ]
  },
  {
   "cell_type": "code",
   "execution_count": 19,
   "id": "5f5239a9",
   "metadata": {},
   "outputs": [
    {
     "data": {
      "text/plain": [
       "array(['9', '5', '<1', '11', '>20', '10', '14', '3', '20', '8', '4', '13',\n",
       "       '2', '6', '7', '1', '19', '15', '16', nan, '17', '18', '12'],\n",
       "      dtype=object)"
      ]
     },
     "execution_count": 19,
     "metadata": {},
     "output_type": "execute_result"
    }
   ],
   "source": [
    "df.experience.unique()"
   ]
  },
  {
   "cell_type": "code",
   "execution_count": 20,
   "id": "72d79dec",
   "metadata": {},
   "outputs": [
    {
     "data": {
      "text/plain": [
       "array(['<10', nan, '10/49', '10000+', '100-500', '50-99', '1000-4999',\n",
       "       '500-999', '5000-9999'], dtype=object)"
      ]
     },
     "execution_count": 20,
     "metadata": {},
     "output_type": "execute_result"
    }
   ],
   "source": [
    "df.company_size.unique()"
   ]
  },
  {
   "cell_type": "code",
   "execution_count": 21,
   "id": "5980ed27",
   "metadata": {},
   "outputs": [
    {
     "data": {
      "text/plain": [
       "array([nan, 'Pvt Ltd', 'Funded Startup', 'Other', 'Public Sector',\n",
       "       'Early Stage Startup', 'NGO'], dtype=object)"
      ]
     },
     "execution_count": 21,
     "metadata": {},
     "output_type": "execute_result"
    }
   ],
   "source": [
    "df.company_type.unique()"
   ]
  },
  {
   "cell_type": "code",
   "execution_count": 22,
   "id": "ad672efe",
   "metadata": {},
   "outputs": [
    {
     "data": {
      "text/plain": [
       "array(['1', 'never', '>4', '2', '4', '3', nan], dtype=object)"
      ]
     },
     "execution_count": 22,
     "metadata": {},
     "output_type": "execute_result"
    }
   ],
   "source": [
    "df.last_new_job.unique()"
   ]
  },
  {
   "cell_type": "markdown",
   "id": "e5aa29cf",
   "metadata": {},
   "source": [
    "### Fixing Data Inconsistencies\n",
    "***Standardized inconsistent string values.\n",
    "\n",
    "***Lowercased categorical values for uniformity."
   ]
  },
  {
   "cell_type": "markdown",
   "id": "2852ea94",
   "metadata": {},
   "source": [
    "##### To Replace the experience >20 converted to 21 and <1 Converted to 0"
   ]
  },
  {
   "cell_type": "code",
   "execution_count": 23,
   "id": "57efa4c0",
   "metadata": {},
   "outputs": [
    {
     "data": {
      "text/plain": [
       "0        9\n",
       "1        5\n",
       "2        0\n",
       "3       11\n",
       "4       21\n",
       "        ..\n",
       "2124    16\n",
       "2125    18\n",
       "2126     3\n",
       "2127     7\n",
       "2128    15\n",
       "Name: experience, Length: 2129, dtype: object"
      ]
     },
     "execution_count": 23,
     "metadata": {},
     "output_type": "execute_result"
    }
   ],
   "source": [
    "df['experience'] = df['experience'].replace({'>20': 21, '<1': 0})\n",
    "df['experience']"
   ]
  },
  {
   "cell_type": "markdown",
   "id": "fa8051ab",
   "metadata": {},
   "source": [
    "#### ***Gender repalce to lower case letters using  lower().\n",
    "#### ***Removing any leading or extra spaces using Strip()."
   ]
  },
  {
   "cell_type": "code",
   "execution_count": 24,
   "id": "202de9b9",
   "metadata": {},
   "outputs": [
    {
     "data": {
      "text/plain": [
       "0         male\n",
       "1       female\n",
       "2         male\n",
       "3         male\n",
       "4         male\n",
       "         ...  \n",
       "2124      male\n",
       "2125      male\n",
       "2126      male\n",
       "2127      male\n",
       "2128      male\n",
       "Name: gender, Length: 2129, dtype: object"
      ]
     },
     "execution_count": 24,
     "metadata": {},
     "output_type": "execute_result"
    }
   ],
   "source": [
    "df['gender'] = df['gender'].str.lower().str.strip()\n",
    "df['gender']"
   ]
  },
  {
   "cell_type": "markdown",
   "id": "5f837588",
   "metadata": {},
   "source": [
    "### Indexing & Filtering \n",
    "\n",
    "***It uses the selecting specific rows / columns for analysis.\n",
    "\n",
    "***Filtered data based on conditions, such as missing values or specific categories."
   ]
  },
  {
   "cell_type": "code",
   "execution_count": 25,
   "id": "43c11b97",
   "metadata": {},
   "outputs": [
    {
     "data": {
      "text/plain": [
       "0        9\n",
       "1        5\n",
       "2        0\n",
       "3       11\n",
       "4       21\n",
       "        ..\n",
       "2124    16\n",
       "2125    18\n",
       "2126     3\n",
       "2127     7\n",
       "2128    15\n",
       "Name: experience, Length: 2129, dtype: object"
      ]
     },
     "execution_count": 25,
     "metadata": {},
     "output_type": "execute_result"
    }
   ],
   "source": [
    "# select a Single  column\n",
    "df[\"experience\"]"
   ]
  },
  {
   "cell_type": "code",
   "execution_count": 26,
   "id": "b4b3d437",
   "metadata": {},
   "outputs": [
    {
     "data": {
      "text/html": [
       "<div>\n",
       "<style scoped>\n",
       "    .dataframe tbody tr th:only-of-type {\n",
       "        vertical-align: middle;\n",
       "    }\n",
       "\n",
       "    .dataframe tbody tr th {\n",
       "        vertical-align: top;\n",
       "    }\n",
       "\n",
       "    .dataframe thead th {\n",
       "        text-align: right;\n",
       "    }\n",
       "</style>\n",
       "<table border=\"1\" class=\"dataframe\">\n",
       "  <thead>\n",
       "    <tr style=\"text-align: right;\">\n",
       "      <th></th>\n",
       "      <th>enrollee_id</th>\n",
       "      <th>city</th>\n",
       "      <th>city_development_index</th>\n",
       "      <th>gender</th>\n",
       "      <th>relevent_experience</th>\n",
       "      <th>enrolled_university</th>\n",
       "      <th>education_level</th>\n",
       "      <th>major_discipline</th>\n",
       "      <th>experience</th>\n",
       "      <th>company_size</th>\n",
       "      <th>company_type</th>\n",
       "      <th>last_new_job</th>\n",
       "      <th>training_hours</th>\n",
       "    </tr>\n",
       "  </thead>\n",
       "  <tbody>\n",
       "    <tr>\n",
       "      <th>1</th>\n",
       "      <td>9858</td>\n",
       "      <td>city_103</td>\n",
       "      <td>0.920</td>\n",
       "      <td>female</td>\n",
       "      <td>Has relevent experience</td>\n",
       "      <td>no_enrollment</td>\n",
       "      <td>Graduate</td>\n",
       "      <td>STEM</td>\n",
       "      <td>5</td>\n",
       "      <td>NaN</td>\n",
       "      <td>Pvt Ltd</td>\n",
       "      <td>1</td>\n",
       "      <td>98</td>\n",
       "    </tr>\n",
       "    <tr>\n",
       "      <th>4</th>\n",
       "      <td>27724</td>\n",
       "      <td>city_103</td>\n",
       "      <td>0.920</td>\n",
       "      <td>male</td>\n",
       "      <td>Has relevent experience</td>\n",
       "      <td>no_enrollment</td>\n",
       "      <td>Graduate</td>\n",
       "      <td>STEM</td>\n",
       "      <td>21</td>\n",
       "      <td>10000+</td>\n",
       "      <td>Pvt Ltd</td>\n",
       "      <td>&gt;4</td>\n",
       "      <td>72</td>\n",
       "    </tr>\n",
       "    <tr>\n",
       "      <th>7</th>\n",
       "      <td>27302</td>\n",
       "      <td>city_160</td>\n",
       "      <td>0.920</td>\n",
       "      <td>female</td>\n",
       "      <td>Has relevent experience</td>\n",
       "      <td>no_enrollment</td>\n",
       "      <td>Graduate</td>\n",
       "      <td>STEM</td>\n",
       "      <td>21</td>\n",
       "      <td>NaN</td>\n",
       "      <td>NaN</td>\n",
       "      <td>&gt;4</td>\n",
       "      <td>81</td>\n",
       "    </tr>\n",
       "    <tr>\n",
       "      <th>10</th>\n",
       "      <td>10856</td>\n",
       "      <td>city_103</td>\n",
       "      <td>0.920</td>\n",
       "      <td>male</td>\n",
       "      <td>Has relevent experience</td>\n",
       "      <td>no_enrollment</td>\n",
       "      <td>Masters</td>\n",
       "      <td>Other</td>\n",
       "      <td>21</td>\n",
       "      <td>NaN</td>\n",
       "      <td>NaN</td>\n",
       "      <td>&gt;4</td>\n",
       "      <td>196</td>\n",
       "    </tr>\n",
       "    <tr>\n",
       "      <th>11</th>\n",
       "      <td>9272</td>\n",
       "      <td>city_90</td>\n",
       "      <td>0.698</td>\n",
       "      <td>male</td>\n",
       "      <td>Has relevent experience</td>\n",
       "      <td>no_enrollment</td>\n",
       "      <td>Graduate</td>\n",
       "      <td>STEM</td>\n",
       "      <td>20</td>\n",
       "      <td>10/49</td>\n",
       "      <td>Pvt Ltd</td>\n",
       "      <td>2</td>\n",
       "      <td>51</td>\n",
       "    </tr>\n",
       "    <tr>\n",
       "      <th>...</th>\n",
       "      <td>...</td>\n",
       "      <td>...</td>\n",
       "      <td>...</td>\n",
       "      <td>...</td>\n",
       "      <td>...</td>\n",
       "      <td>...</td>\n",
       "      <td>...</td>\n",
       "      <td>...</td>\n",
       "      <td>...</td>\n",
       "      <td>...</td>\n",
       "      <td>...</td>\n",
       "      <td>...</td>\n",
       "      <td>...</td>\n",
       "    </tr>\n",
       "    <tr>\n",
       "      <th>2119</th>\n",
       "      <td>8905</td>\n",
       "      <td>city_70</td>\n",
       "      <td>0.698</td>\n",
       "      <td>NaN</td>\n",
       "      <td>No relevent experience</td>\n",
       "      <td>Full time course</td>\n",
       "      <td>High School</td>\n",
       "      <td>NaN</td>\n",
       "      <td>8</td>\n",
       "      <td>NaN</td>\n",
       "      <td>NaN</td>\n",
       "      <td>never</td>\n",
       "      <td>55</td>\n",
       "    </tr>\n",
       "    <tr>\n",
       "      <th>2121</th>\n",
       "      <td>27163</td>\n",
       "      <td>city_173</td>\n",
       "      <td>0.878</td>\n",
       "      <td>male</td>\n",
       "      <td>No relevent experience</td>\n",
       "      <td>no_enrollment</td>\n",
       "      <td>Masters</td>\n",
       "      <td>STEM</td>\n",
       "      <td>16</td>\n",
       "      <td>&lt;10</td>\n",
       "      <td>Pvt Ltd</td>\n",
       "      <td>&gt;4</td>\n",
       "      <td>58</td>\n",
       "    </tr>\n",
       "    <tr>\n",
       "      <th>2122</th>\n",
       "      <td>24507</td>\n",
       "      <td>city_90</td>\n",
       "      <td>0.698</td>\n",
       "      <td>NaN</td>\n",
       "      <td>No relevent experience</td>\n",
       "      <td>no_enrollment</td>\n",
       "      <td>Graduate</td>\n",
       "      <td>STEM</td>\n",
       "      <td>20</td>\n",
       "      <td>NaN</td>\n",
       "      <td>NaN</td>\n",
       "      <td>never</td>\n",
       "      <td>133</td>\n",
       "    </tr>\n",
       "    <tr>\n",
       "      <th>2123</th>\n",
       "      <td>21339</td>\n",
       "      <td>city_21</td>\n",
       "      <td>0.624</td>\n",
       "      <td>female</td>\n",
       "      <td>No relevent experience</td>\n",
       "      <td>Full time course</td>\n",
       "      <td>High School</td>\n",
       "      <td>NaN</td>\n",
       "      <td>3</td>\n",
       "      <td>NaN</td>\n",
       "      <td>NaN</td>\n",
       "      <td>never</td>\n",
       "      <td>56</td>\n",
       "    </tr>\n",
       "    <tr>\n",
       "      <th>2127</th>\n",
       "      <td>7873</td>\n",
       "      <td>city_102</td>\n",
       "      <td>0.804</td>\n",
       "      <td>male</td>\n",
       "      <td>Has relevent experience</td>\n",
       "      <td>Full time course</td>\n",
       "      <td>High School</td>\n",
       "      <td>NaN</td>\n",
       "      <td>7</td>\n",
       "      <td>100-500</td>\n",
       "      <td>Public Sector</td>\n",
       "      <td>1</td>\n",
       "      <td>84</td>\n",
       "    </tr>\n",
       "  </tbody>\n",
       "</table>\n",
       "<p>993 rows × 13 columns</p>\n",
       "</div>"
      ],
      "text/plain": [
       "      enrollee_id      city  city_development_index  gender  \\\n",
       "1            9858  city_103                   0.920  female   \n",
       "4           27724  city_103                   0.920    male   \n",
       "7           27302  city_160                   0.920  female   \n",
       "10          10856  city_103                   0.920    male   \n",
       "11           9272   city_90                   0.698    male   \n",
       "...           ...       ...                     ...     ...   \n",
       "2119         8905   city_70                   0.698     NaN   \n",
       "2121        27163  city_173                   0.878    male   \n",
       "2122        24507   city_90                   0.698     NaN   \n",
       "2123        21339   city_21                   0.624  female   \n",
       "2127         7873  city_102                   0.804    male   \n",
       "\n",
       "          relevent_experience enrolled_university education_level  \\\n",
       "1     Has relevent experience       no_enrollment        Graduate   \n",
       "4     Has relevent experience       no_enrollment        Graduate   \n",
       "7     Has relevent experience       no_enrollment        Graduate   \n",
       "10    Has relevent experience       no_enrollment         Masters   \n",
       "11    Has relevent experience       no_enrollment        Graduate   \n",
       "...                       ...                 ...             ...   \n",
       "2119   No relevent experience    Full time course     High School   \n",
       "2121   No relevent experience       no_enrollment         Masters   \n",
       "2122   No relevent experience       no_enrollment        Graduate   \n",
       "2123   No relevent experience    Full time course     High School   \n",
       "2127  Has relevent experience    Full time course     High School   \n",
       "\n",
       "     major_discipline experience company_size   company_type last_new_job  \\\n",
       "1                STEM          5          NaN        Pvt Ltd            1   \n",
       "4                STEM         21       10000+        Pvt Ltd           >4   \n",
       "7                STEM         21          NaN            NaN           >4   \n",
       "10              Other         21          NaN            NaN           >4   \n",
       "11               STEM         20        10/49        Pvt Ltd            2   \n",
       "...               ...        ...          ...            ...          ...   \n",
       "2119              NaN          8          NaN            NaN        never   \n",
       "2121             STEM         16          <10        Pvt Ltd           >4   \n",
       "2122             STEM         20          NaN            NaN        never   \n",
       "2123              NaN          3          NaN            NaN        never   \n",
       "2127              NaN          7      100-500  Public Sector            1   \n",
       "\n",
       "      training_hours  \n",
       "1                 98  \n",
       "4                 72  \n",
       "7                 81  \n",
       "10               196  \n",
       "11                51  \n",
       "...              ...  \n",
       "2119              55  \n",
       "2121              58  \n",
       "2122             133  \n",
       "2123              56  \n",
       "2127              84  \n",
       "\n",
       "[993 rows x 13 columns]"
      ]
     },
     "execution_count": 26,
     "metadata": {},
     "output_type": "execute_result"
    }
   ],
   "source": [
    "# Filter rows where training_hours > 50\n",
    "df[df[\"training_hours\"]>50]"
   ]
  },
  {
   "cell_type": "code",
   "execution_count": 27,
   "id": "1263c5ed",
   "metadata": {},
   "outputs": [
    {
     "data": {
      "text/html": [
       "<div>\n",
       "<style scoped>\n",
       "    .dataframe tbody tr th:only-of-type {\n",
       "        vertical-align: middle;\n",
       "    }\n",
       "\n",
       "    .dataframe tbody tr th {\n",
       "        vertical-align: top;\n",
       "    }\n",
       "\n",
       "    .dataframe thead th {\n",
       "        text-align: right;\n",
       "    }\n",
       "</style>\n",
       "<table border=\"1\" class=\"dataframe\">\n",
       "  <thead>\n",
       "    <tr style=\"text-align: right;\">\n",
       "      <th></th>\n",
       "      <th>enrollee_id</th>\n",
       "      <th>city</th>\n",
       "      <th>city_development_index</th>\n",
       "      <th>gender</th>\n",
       "    </tr>\n",
       "  </thead>\n",
       "  <tbody>\n",
       "    <tr>\n",
       "      <th>1</th>\n",
       "      <td>9858</td>\n",
       "      <td>city_103</td>\n",
       "      <td>0.920</td>\n",
       "      <td>female</td>\n",
       "    </tr>\n",
       "    <tr>\n",
       "      <th>2</th>\n",
       "      <td>31806</td>\n",
       "      <td>city_21</td>\n",
       "      <td>0.624</td>\n",
       "      <td>male</td>\n",
       "    </tr>\n",
       "    <tr>\n",
       "      <th>3</th>\n",
       "      <td>27385</td>\n",
       "      <td>city_13</td>\n",
       "      <td>0.827</td>\n",
       "      <td>male</td>\n",
       "    </tr>\n",
       "    <tr>\n",
       "      <th>4</th>\n",
       "      <td>27724</td>\n",
       "      <td>city_103</td>\n",
       "      <td>0.920</td>\n",
       "      <td>male</td>\n",
       "    </tr>\n",
       "    <tr>\n",
       "      <th>5</th>\n",
       "      <td>217</td>\n",
       "      <td>city_23</td>\n",
       "      <td>0.899</td>\n",
       "      <td>male</td>\n",
       "    </tr>\n",
       "    <tr>\n",
       "      <th>6</th>\n",
       "      <td>21465</td>\n",
       "      <td>city_21</td>\n",
       "      <td>0.624</td>\n",
       "      <td>NaN</td>\n",
       "    </tr>\n",
       "    <tr>\n",
       "      <th>7</th>\n",
       "      <td>27302</td>\n",
       "      <td>city_160</td>\n",
       "      <td>0.920</td>\n",
       "      <td>female</td>\n",
       "    </tr>\n",
       "    <tr>\n",
       "      <th>8</th>\n",
       "      <td>12994</td>\n",
       "      <td>city_173</td>\n",
       "      <td>0.878</td>\n",
       "      <td>male</td>\n",
       "    </tr>\n",
       "    <tr>\n",
       "      <th>9</th>\n",
       "      <td>16287</td>\n",
       "      <td>city_21</td>\n",
       "      <td>0.624</td>\n",
       "      <td>male</td>\n",
       "    </tr>\n",
       "    <tr>\n",
       "      <th>10</th>\n",
       "      <td>10856</td>\n",
       "      <td>city_103</td>\n",
       "      <td>0.920</td>\n",
       "      <td>male</td>\n",
       "    </tr>\n",
       "  </tbody>\n",
       "</table>\n",
       "</div>"
      ],
      "text/plain": [
       "    enrollee_id      city  city_development_index  gender\n",
       "1          9858  city_103                   0.920  female\n",
       "2         31806   city_21                   0.624    male\n",
       "3         27385   city_13                   0.827    male\n",
       "4         27724  city_103                   0.920    male\n",
       "5           217   city_23                   0.899    male\n",
       "6         21465   city_21                   0.624     NaN\n",
       "7         27302  city_160                   0.920  female\n",
       "8         12994  city_173                   0.878    male\n",
       "9         16287   city_21                   0.624    male\n",
       "10        10856  city_103                   0.920    male"
      ]
     },
     "execution_count": 27,
     "metadata": {},
     "output_type": "execute_result"
    }
   ],
   "source": [
    "# view the 1 to 10 rows with index labels include all columns between enrollee_id to gender in order\n",
    "df.loc[1:10,\"enrollee_id\":\"gender\"]"
   ]
  },
  {
   "cell_type": "code",
   "execution_count": 28,
   "id": "661593d8",
   "metadata": {},
   "outputs": [
    {
     "data": {
      "text/html": [
       "<div>\n",
       "<style scoped>\n",
       "    .dataframe tbody tr th:only-of-type {\n",
       "        vertical-align: middle;\n",
       "    }\n",
       "\n",
       "    .dataframe tbody tr th {\n",
       "        vertical-align: top;\n",
       "    }\n",
       "\n",
       "    .dataframe thead th {\n",
       "        text-align: right;\n",
       "    }\n",
       "</style>\n",
       "<table border=\"1\" class=\"dataframe\">\n",
       "  <thead>\n",
       "    <tr style=\"text-align: right;\">\n",
       "      <th></th>\n",
       "      <th>enrollee_id</th>\n",
       "      <th>city</th>\n",
       "      <th>city_development_index</th>\n",
       "      <th>gender</th>\n",
       "    </tr>\n",
       "  </thead>\n",
       "  <tbody>\n",
       "    <tr>\n",
       "      <th>1</th>\n",
       "      <td>9858</td>\n",
       "      <td>city_103</td>\n",
       "      <td>0.920</td>\n",
       "      <td>female</td>\n",
       "    </tr>\n",
       "    <tr>\n",
       "      <th>2</th>\n",
       "      <td>31806</td>\n",
       "      <td>city_21</td>\n",
       "      <td>0.624</td>\n",
       "      <td>male</td>\n",
       "    </tr>\n",
       "    <tr>\n",
       "      <th>3</th>\n",
       "      <td>27385</td>\n",
       "      <td>city_13</td>\n",
       "      <td>0.827</td>\n",
       "      <td>male</td>\n",
       "    </tr>\n",
       "    <tr>\n",
       "      <th>4</th>\n",
       "      <td>27724</td>\n",
       "      <td>city_103</td>\n",
       "      <td>0.920</td>\n",
       "      <td>male</td>\n",
       "    </tr>\n",
       "    <tr>\n",
       "      <th>5</th>\n",
       "      <td>217</td>\n",
       "      <td>city_23</td>\n",
       "      <td>0.899</td>\n",
       "      <td>male</td>\n",
       "    </tr>\n",
       "    <tr>\n",
       "      <th>6</th>\n",
       "      <td>21465</td>\n",
       "      <td>city_21</td>\n",
       "      <td>0.624</td>\n",
       "      <td>NaN</td>\n",
       "    </tr>\n",
       "    <tr>\n",
       "      <th>7</th>\n",
       "      <td>27302</td>\n",
       "      <td>city_160</td>\n",
       "      <td>0.920</td>\n",
       "      <td>female</td>\n",
       "    </tr>\n",
       "    <tr>\n",
       "      <th>8</th>\n",
       "      <td>12994</td>\n",
       "      <td>city_173</td>\n",
       "      <td>0.878</td>\n",
       "      <td>male</td>\n",
       "    </tr>\n",
       "    <tr>\n",
       "      <th>9</th>\n",
       "      <td>16287</td>\n",
       "      <td>city_21</td>\n",
       "      <td>0.624</td>\n",
       "      <td>male</td>\n",
       "    </tr>\n",
       "  </tbody>\n",
       "</table>\n",
       "</div>"
      ],
      "text/plain": [
       "   enrollee_id      city  city_development_index  gender\n",
       "1         9858  city_103                   0.920  female\n",
       "2        31806   city_21                   0.624    male\n",
       "3        27385   city_13                   0.827    male\n",
       "4        27724  city_103                   0.920    male\n",
       "5          217   city_23                   0.899    male\n",
       "6        21465   city_21                   0.624     NaN\n",
       "7        27302  city_160                   0.920  female\n",
       "8        12994  city_173                   0.878    male\n",
       "9        16287   city_21                   0.624    male"
      ]
     },
     "execution_count": 28,
     "metadata": {},
     "output_type": "execute_result"
    }
   ],
   "source": [
    "# iloc takes the index positions\n",
    "df.iloc[1:10,0:4]"
   ]
  },
  {
   "cell_type": "code",
   "execution_count": 29,
   "id": "ff203bd3",
   "metadata": {},
   "outputs": [
    {
     "data": {
      "text/html": [
       "<div>\n",
       "<style scoped>\n",
       "    .dataframe tbody tr th:only-of-type {\n",
       "        vertical-align: middle;\n",
       "    }\n",
       "\n",
       "    .dataframe tbody tr th {\n",
       "        vertical-align: top;\n",
       "    }\n",
       "\n",
       "    .dataframe thead th {\n",
       "        text-align: right;\n",
       "    }\n",
       "</style>\n",
       "<table border=\"1\" class=\"dataframe\">\n",
       "  <thead>\n",
       "    <tr style=\"text-align: right;\">\n",
       "      <th></th>\n",
       "      <th>enrollee_id</th>\n",
       "      <th>city</th>\n",
       "      <th>city_development_index</th>\n",
       "      <th>gender</th>\n",
       "      <th>relevent_experience</th>\n",
       "      <th>enrolled_university</th>\n",
       "      <th>education_level</th>\n",
       "      <th>major_discipline</th>\n",
       "      <th>experience</th>\n",
       "      <th>company_size</th>\n",
       "      <th>company_type</th>\n",
       "      <th>last_new_job</th>\n",
       "      <th>training_hours</th>\n",
       "    </tr>\n",
       "  </thead>\n",
       "  <tbody>\n",
       "    <tr>\n",
       "      <th>120</th>\n",
       "      <td>3</td>\n",
       "      <td>city_99</td>\n",
       "      <td>0.915</td>\n",
       "      <td>NaN</td>\n",
       "      <td>No relevent experience</td>\n",
       "      <td>Full time course</td>\n",
       "      <td>High School</td>\n",
       "      <td>NaN</td>\n",
       "      <td>6</td>\n",
       "      <td>NaN</td>\n",
       "      <td>Pvt Ltd</td>\n",
       "      <td>never</td>\n",
       "      <td>44</td>\n",
       "    </tr>\n",
       "    <tr>\n",
       "      <th>1130</th>\n",
       "      <td>28</td>\n",
       "      <td>city_103</td>\n",
       "      <td>0.920</td>\n",
       "      <td>male</td>\n",
       "      <td>No relevent experience</td>\n",
       "      <td>no_enrollment</td>\n",
       "      <td>NaN</td>\n",
       "      <td>NaN</td>\n",
       "      <td>4</td>\n",
       "      <td>NaN</td>\n",
       "      <td>Pvt Ltd</td>\n",
       "      <td>never</td>\n",
       "      <td>86</td>\n",
       "    </tr>\n",
       "    <tr>\n",
       "      <th>1900</th>\n",
       "      <td>30</td>\n",
       "      <td>city_158</td>\n",
       "      <td>0.766</td>\n",
       "      <td>male</td>\n",
       "      <td>Has relevent experience</td>\n",
       "      <td>Part time course</td>\n",
       "      <td>Graduate</td>\n",
       "      <td>STEM</td>\n",
       "      <td>10</td>\n",
       "      <td>500-999</td>\n",
       "      <td>Pvt Ltd</td>\n",
       "      <td>2</td>\n",
       "      <td>63</td>\n",
       "    </tr>\n",
       "    <tr>\n",
       "      <th>2049</th>\n",
       "      <td>37</td>\n",
       "      <td>city_103</td>\n",
       "      <td>0.920</td>\n",
       "      <td>male</td>\n",
       "      <td>No relevent experience</td>\n",
       "      <td>Full time course</td>\n",
       "      <td>Graduate</td>\n",
       "      <td>STEM</td>\n",
       "      <td>3</td>\n",
       "      <td>NaN</td>\n",
       "      <td>NaN</td>\n",
       "      <td>never</td>\n",
       "      <td>40</td>\n",
       "    </tr>\n",
       "    <tr>\n",
       "      <th>283</th>\n",
       "      <td>40</td>\n",
       "      <td>city_21</td>\n",
       "      <td>0.624</td>\n",
       "      <td>male</td>\n",
       "      <td>Has relevent experience</td>\n",
       "      <td>no_enrollment</td>\n",
       "      <td>Graduate</td>\n",
       "      <td>STEM</td>\n",
       "      <td>11</td>\n",
       "      <td>5000-9999</td>\n",
       "      <td>Pvt Ltd</td>\n",
       "      <td>never</td>\n",
       "      <td>109</td>\n",
       "    </tr>\n",
       "    <tr>\n",
       "      <th>...</th>\n",
       "      <td>...</td>\n",
       "      <td>...</td>\n",
       "      <td>...</td>\n",
       "      <td>...</td>\n",
       "      <td>...</td>\n",
       "      <td>...</td>\n",
       "      <td>...</td>\n",
       "      <td>...</td>\n",
       "      <td>...</td>\n",
       "      <td>...</td>\n",
       "      <td>...</td>\n",
       "      <td>...</td>\n",
       "      <td>...</td>\n",
       "    </tr>\n",
       "    <tr>\n",
       "      <th>1359</th>\n",
       "      <td>33300</td>\n",
       "      <td>city_50</td>\n",
       "      <td>0.896</td>\n",
       "      <td>male</td>\n",
       "      <td>Has relevent experience</td>\n",
       "      <td>no_enrollment</td>\n",
       "      <td>Masters</td>\n",
       "      <td>STEM</td>\n",
       "      <td>15</td>\n",
       "      <td>50-99</td>\n",
       "      <td>Pvt Ltd</td>\n",
       "      <td>&gt;4</td>\n",
       "      <td>2</td>\n",
       "    </tr>\n",
       "    <tr>\n",
       "      <th>1546</th>\n",
       "      <td>33308</td>\n",
       "      <td>city_21</td>\n",
       "      <td>0.624</td>\n",
       "      <td>male</td>\n",
       "      <td>Has relevent experience</td>\n",
       "      <td>no_enrollment</td>\n",
       "      <td>Graduate</td>\n",
       "      <td>STEM</td>\n",
       "      <td>4</td>\n",
       "      <td>500-999</td>\n",
       "      <td>Pvt Ltd</td>\n",
       "      <td>1</td>\n",
       "      <td>4</td>\n",
       "    </tr>\n",
       "    <tr>\n",
       "      <th>2087</th>\n",
       "      <td>33316</td>\n",
       "      <td>city_103</td>\n",
       "      <td>0.920</td>\n",
       "      <td>male</td>\n",
       "      <td>No relevent experience</td>\n",
       "      <td>Full time course</td>\n",
       "      <td>Graduate</td>\n",
       "      <td>STEM</td>\n",
       "      <td>5</td>\n",
       "      <td>10000+</td>\n",
       "      <td>Public Sector</td>\n",
       "      <td>1</td>\n",
       "      <td>30</td>\n",
       "    </tr>\n",
       "    <tr>\n",
       "      <th>650</th>\n",
       "      <td>33343</td>\n",
       "      <td>city_21</td>\n",
       "      <td>0.624</td>\n",
       "      <td>male</td>\n",
       "      <td>Has relevent experience</td>\n",
       "      <td>no_enrollment</td>\n",
       "      <td>Graduate</td>\n",
       "      <td>STEM</td>\n",
       "      <td>0</td>\n",
       "      <td>100-500</td>\n",
       "      <td>Pvt Ltd</td>\n",
       "      <td>1</td>\n",
       "      <td>52</td>\n",
       "    </tr>\n",
       "    <tr>\n",
       "      <th>1750</th>\n",
       "      <td>33353</td>\n",
       "      <td>city_114</td>\n",
       "      <td>0.926</td>\n",
       "      <td>male</td>\n",
       "      <td>Has relevent experience</td>\n",
       "      <td>no_enrollment</td>\n",
       "      <td>Masters</td>\n",
       "      <td>STEM</td>\n",
       "      <td>15</td>\n",
       "      <td>10000+</td>\n",
       "      <td>Pvt Ltd</td>\n",
       "      <td>1</td>\n",
       "      <td>25</td>\n",
       "    </tr>\n",
       "  </tbody>\n",
       "</table>\n",
       "<p>2129 rows × 13 columns</p>\n",
       "</div>"
      ],
      "text/plain": [
       "      enrollee_id      city  city_development_index gender  \\\n",
       "120             3   city_99                   0.915    NaN   \n",
       "1130           28  city_103                   0.920   male   \n",
       "1900           30  city_158                   0.766   male   \n",
       "2049           37  city_103                   0.920   male   \n",
       "283            40   city_21                   0.624   male   \n",
       "...           ...       ...                     ...    ...   \n",
       "1359        33300   city_50                   0.896   male   \n",
       "1546        33308   city_21                   0.624   male   \n",
       "2087        33316  city_103                   0.920   male   \n",
       "650         33343   city_21                   0.624   male   \n",
       "1750        33353  city_114                   0.926   male   \n",
       "\n",
       "          relevent_experience enrolled_university education_level  \\\n",
       "120    No relevent experience    Full time course     High School   \n",
       "1130   No relevent experience       no_enrollment             NaN   \n",
       "1900  Has relevent experience    Part time course        Graduate   \n",
       "2049   No relevent experience    Full time course        Graduate   \n",
       "283   Has relevent experience       no_enrollment        Graduate   \n",
       "...                       ...                 ...             ...   \n",
       "1359  Has relevent experience       no_enrollment         Masters   \n",
       "1546  Has relevent experience       no_enrollment        Graduate   \n",
       "2087   No relevent experience    Full time course        Graduate   \n",
       "650   Has relevent experience       no_enrollment        Graduate   \n",
       "1750  Has relevent experience       no_enrollment         Masters   \n",
       "\n",
       "     major_discipline experience company_size   company_type last_new_job  \\\n",
       "120               NaN          6          NaN        Pvt Ltd        never   \n",
       "1130              NaN          4          NaN        Pvt Ltd        never   \n",
       "1900             STEM         10      500-999        Pvt Ltd            2   \n",
       "2049             STEM          3          NaN            NaN        never   \n",
       "283              STEM         11    5000-9999        Pvt Ltd        never   \n",
       "...               ...        ...          ...            ...          ...   \n",
       "1359             STEM         15        50-99        Pvt Ltd           >4   \n",
       "1546             STEM          4      500-999        Pvt Ltd            1   \n",
       "2087             STEM          5       10000+  Public Sector            1   \n",
       "650              STEM          0      100-500        Pvt Ltd            1   \n",
       "1750             STEM         15       10000+        Pvt Ltd            1   \n",
       "\n",
       "      training_hours  \n",
       "120               44  \n",
       "1130              86  \n",
       "1900              63  \n",
       "2049              40  \n",
       "283              109  \n",
       "...              ...  \n",
       "1359               2  \n",
       "1546               4  \n",
       "2087              30  \n",
       "650               52  \n",
       "1750              25  \n",
       "\n",
       "[2129 rows x 13 columns]"
      ]
     },
     "execution_count": 29,
     "metadata": {},
     "output_type": "execute_result"
    }
   ],
   "source": [
    "# view the enrollee_id column in sorting order\n",
    "df.sort_values(\"enrollee_id\",ascending = True)"
   ]
  },
  {
   "cell_type": "code",
   "execution_count": 30,
   "id": "3d1fae4a",
   "metadata": {},
   "outputs": [
    {
     "data": {
      "text/html": [
       "<div>\n",
       "<style scoped>\n",
       "    .dataframe tbody tr th:only-of-type {\n",
       "        vertical-align: middle;\n",
       "    }\n",
       "\n",
       "    .dataframe tbody tr th {\n",
       "        vertical-align: top;\n",
       "    }\n",
       "\n",
       "    .dataframe thead th {\n",
       "        text-align: right;\n",
       "    }\n",
       "</style>\n",
       "<table border=\"1\" class=\"dataframe\">\n",
       "  <thead>\n",
       "    <tr style=\"text-align: right;\">\n",
       "      <th></th>\n",
       "      <th>enrollee_id</th>\n",
       "      <th>city</th>\n",
       "      <th>city_development_index</th>\n",
       "      <th>gender</th>\n",
       "      <th>relevent_experience</th>\n",
       "      <th>enrolled_university</th>\n",
       "      <th>education_level</th>\n",
       "      <th>major_discipline</th>\n",
       "      <th>experience</th>\n",
       "      <th>company_size</th>\n",
       "      <th>company_type</th>\n",
       "      <th>last_new_job</th>\n",
       "      <th>training_hours</th>\n",
       "    </tr>\n",
       "  </thead>\n",
       "  <tbody>\n",
       "    <tr>\n",
       "      <th>1750</th>\n",
       "      <td>33353</td>\n",
       "      <td>city_114</td>\n",
       "      <td>0.926</td>\n",
       "      <td>male</td>\n",
       "      <td>Has relevent experience</td>\n",
       "      <td>no_enrollment</td>\n",
       "      <td>Masters</td>\n",
       "      <td>STEM</td>\n",
       "      <td>15</td>\n",
       "      <td>10000+</td>\n",
       "      <td>Pvt Ltd</td>\n",
       "      <td>1</td>\n",
       "      <td>25</td>\n",
       "    </tr>\n",
       "    <tr>\n",
       "      <th>650</th>\n",
       "      <td>33343</td>\n",
       "      <td>city_21</td>\n",
       "      <td>0.624</td>\n",
       "      <td>male</td>\n",
       "      <td>Has relevent experience</td>\n",
       "      <td>no_enrollment</td>\n",
       "      <td>Graduate</td>\n",
       "      <td>STEM</td>\n",
       "      <td>0</td>\n",
       "      <td>100-500</td>\n",
       "      <td>Pvt Ltd</td>\n",
       "      <td>1</td>\n",
       "      <td>52</td>\n",
       "    </tr>\n",
       "    <tr>\n",
       "      <th>2087</th>\n",
       "      <td>33316</td>\n",
       "      <td>city_103</td>\n",
       "      <td>0.920</td>\n",
       "      <td>male</td>\n",
       "      <td>No relevent experience</td>\n",
       "      <td>Full time course</td>\n",
       "      <td>Graduate</td>\n",
       "      <td>STEM</td>\n",
       "      <td>5</td>\n",
       "      <td>10000+</td>\n",
       "      <td>Public Sector</td>\n",
       "      <td>1</td>\n",
       "      <td>30</td>\n",
       "    </tr>\n",
       "    <tr>\n",
       "      <th>1546</th>\n",
       "      <td>33308</td>\n",
       "      <td>city_21</td>\n",
       "      <td>0.624</td>\n",
       "      <td>male</td>\n",
       "      <td>Has relevent experience</td>\n",
       "      <td>no_enrollment</td>\n",
       "      <td>Graduate</td>\n",
       "      <td>STEM</td>\n",
       "      <td>4</td>\n",
       "      <td>500-999</td>\n",
       "      <td>Pvt Ltd</td>\n",
       "      <td>1</td>\n",
       "      <td>4</td>\n",
       "    </tr>\n",
       "    <tr>\n",
       "      <th>1359</th>\n",
       "      <td>33300</td>\n",
       "      <td>city_50</td>\n",
       "      <td>0.896</td>\n",
       "      <td>male</td>\n",
       "      <td>Has relevent experience</td>\n",
       "      <td>no_enrollment</td>\n",
       "      <td>Masters</td>\n",
       "      <td>STEM</td>\n",
       "      <td>15</td>\n",
       "      <td>50-99</td>\n",
       "      <td>Pvt Ltd</td>\n",
       "      <td>&gt;4</td>\n",
       "      <td>2</td>\n",
       "    </tr>\n",
       "    <tr>\n",
       "      <th>...</th>\n",
       "      <td>...</td>\n",
       "      <td>...</td>\n",
       "      <td>...</td>\n",
       "      <td>...</td>\n",
       "      <td>...</td>\n",
       "      <td>...</td>\n",
       "      <td>...</td>\n",
       "      <td>...</td>\n",
       "      <td>...</td>\n",
       "      <td>...</td>\n",
       "      <td>...</td>\n",
       "      <td>...</td>\n",
       "      <td>...</td>\n",
       "    </tr>\n",
       "    <tr>\n",
       "      <th>283</th>\n",
       "      <td>40</td>\n",
       "      <td>city_21</td>\n",
       "      <td>0.624</td>\n",
       "      <td>male</td>\n",
       "      <td>Has relevent experience</td>\n",
       "      <td>no_enrollment</td>\n",
       "      <td>Graduate</td>\n",
       "      <td>STEM</td>\n",
       "      <td>11</td>\n",
       "      <td>5000-9999</td>\n",
       "      <td>Pvt Ltd</td>\n",
       "      <td>never</td>\n",
       "      <td>109</td>\n",
       "    </tr>\n",
       "    <tr>\n",
       "      <th>2049</th>\n",
       "      <td>37</td>\n",
       "      <td>city_103</td>\n",
       "      <td>0.920</td>\n",
       "      <td>male</td>\n",
       "      <td>No relevent experience</td>\n",
       "      <td>Full time course</td>\n",
       "      <td>Graduate</td>\n",
       "      <td>STEM</td>\n",
       "      <td>3</td>\n",
       "      <td>NaN</td>\n",
       "      <td>NaN</td>\n",
       "      <td>never</td>\n",
       "      <td>40</td>\n",
       "    </tr>\n",
       "    <tr>\n",
       "      <th>1900</th>\n",
       "      <td>30</td>\n",
       "      <td>city_158</td>\n",
       "      <td>0.766</td>\n",
       "      <td>male</td>\n",
       "      <td>Has relevent experience</td>\n",
       "      <td>Part time course</td>\n",
       "      <td>Graduate</td>\n",
       "      <td>STEM</td>\n",
       "      <td>10</td>\n",
       "      <td>500-999</td>\n",
       "      <td>Pvt Ltd</td>\n",
       "      <td>2</td>\n",
       "      <td>63</td>\n",
       "    </tr>\n",
       "    <tr>\n",
       "      <th>1130</th>\n",
       "      <td>28</td>\n",
       "      <td>city_103</td>\n",
       "      <td>0.920</td>\n",
       "      <td>male</td>\n",
       "      <td>No relevent experience</td>\n",
       "      <td>no_enrollment</td>\n",
       "      <td>NaN</td>\n",
       "      <td>NaN</td>\n",
       "      <td>4</td>\n",
       "      <td>NaN</td>\n",
       "      <td>Pvt Ltd</td>\n",
       "      <td>never</td>\n",
       "      <td>86</td>\n",
       "    </tr>\n",
       "    <tr>\n",
       "      <th>120</th>\n",
       "      <td>3</td>\n",
       "      <td>city_99</td>\n",
       "      <td>0.915</td>\n",
       "      <td>NaN</td>\n",
       "      <td>No relevent experience</td>\n",
       "      <td>Full time course</td>\n",
       "      <td>High School</td>\n",
       "      <td>NaN</td>\n",
       "      <td>6</td>\n",
       "      <td>NaN</td>\n",
       "      <td>Pvt Ltd</td>\n",
       "      <td>never</td>\n",
       "      <td>44</td>\n",
       "    </tr>\n",
       "  </tbody>\n",
       "</table>\n",
       "<p>2129 rows × 13 columns</p>\n",
       "</div>"
      ],
      "text/plain": [
       "      enrollee_id      city  city_development_index gender  \\\n",
       "1750        33353  city_114                   0.926   male   \n",
       "650         33343   city_21                   0.624   male   \n",
       "2087        33316  city_103                   0.920   male   \n",
       "1546        33308   city_21                   0.624   male   \n",
       "1359        33300   city_50                   0.896   male   \n",
       "...           ...       ...                     ...    ...   \n",
       "283            40   city_21                   0.624   male   \n",
       "2049           37  city_103                   0.920   male   \n",
       "1900           30  city_158                   0.766   male   \n",
       "1130           28  city_103                   0.920   male   \n",
       "120             3   city_99                   0.915    NaN   \n",
       "\n",
       "          relevent_experience enrolled_university education_level  \\\n",
       "1750  Has relevent experience       no_enrollment         Masters   \n",
       "650   Has relevent experience       no_enrollment        Graduate   \n",
       "2087   No relevent experience    Full time course        Graduate   \n",
       "1546  Has relevent experience       no_enrollment        Graduate   \n",
       "1359  Has relevent experience       no_enrollment         Masters   \n",
       "...                       ...                 ...             ...   \n",
       "283   Has relevent experience       no_enrollment        Graduate   \n",
       "2049   No relevent experience    Full time course        Graduate   \n",
       "1900  Has relevent experience    Part time course        Graduate   \n",
       "1130   No relevent experience       no_enrollment             NaN   \n",
       "120    No relevent experience    Full time course     High School   \n",
       "\n",
       "     major_discipline experience company_size   company_type last_new_job  \\\n",
       "1750             STEM         15       10000+        Pvt Ltd            1   \n",
       "650              STEM          0      100-500        Pvt Ltd            1   \n",
       "2087             STEM          5       10000+  Public Sector            1   \n",
       "1546             STEM          4      500-999        Pvt Ltd            1   \n",
       "1359             STEM         15        50-99        Pvt Ltd           >4   \n",
       "...               ...        ...          ...            ...          ...   \n",
       "283              STEM         11    5000-9999        Pvt Ltd        never   \n",
       "2049             STEM          3          NaN            NaN        never   \n",
       "1900             STEM         10      500-999        Pvt Ltd            2   \n",
       "1130              NaN          4          NaN        Pvt Ltd        never   \n",
       "120               NaN          6          NaN        Pvt Ltd        never   \n",
       "\n",
       "      training_hours  \n",
       "1750              25  \n",
       "650               52  \n",
       "2087              30  \n",
       "1546               4  \n",
       "1359               2  \n",
       "...              ...  \n",
       "283              109  \n",
       "2049              40  \n",
       "1900              63  \n",
       "1130              86  \n",
       "120               44  \n",
       "\n",
       "[2129 rows x 13 columns]"
      ]
     },
     "execution_count": 30,
     "metadata": {},
     "output_type": "execute_result"
    }
   ],
   "source": [
    "# view the enrollee_id column in sorting order (descending order)\n",
    "df.sort_values(\"enrollee_id\",ascending = False)"
   ]
  },
  {
   "cell_type": "code",
   "execution_count": 31,
   "id": "01d978d0",
   "metadata": {},
   "outputs": [
    {
     "data": {
      "text/html": [
       "<div>\n",
       "<style scoped>\n",
       "    .dataframe tbody tr th:only-of-type {\n",
       "        vertical-align: middle;\n",
       "    }\n",
       "\n",
       "    .dataframe tbody tr th {\n",
       "        vertical-align: top;\n",
       "    }\n",
       "\n",
       "    .dataframe thead th {\n",
       "        text-align: right;\n",
       "    }\n",
       "</style>\n",
       "<table border=\"1\" class=\"dataframe\">\n",
       "  <thead>\n",
       "    <tr style=\"text-align: right;\">\n",
       "      <th></th>\n",
       "      <th>enrollee_id</th>\n",
       "      <th>city</th>\n",
       "      <th>city_development_index</th>\n",
       "      <th>gender</th>\n",
       "      <th>relevent_experience</th>\n",
       "      <th>enrolled_university</th>\n",
       "      <th>education_level</th>\n",
       "      <th>major_discipline</th>\n",
       "      <th>experience</th>\n",
       "      <th>company_size</th>\n",
       "      <th>company_type</th>\n",
       "      <th>last_new_job</th>\n",
       "      <th>training_hours</th>\n",
       "    </tr>\n",
       "  </thead>\n",
       "  <tbody>\n",
       "    <tr>\n",
       "      <th>493</th>\n",
       "      <td>7443</td>\n",
       "      <td>city_173</td>\n",
       "      <td>0.878</td>\n",
       "      <td>male</td>\n",
       "      <td>Has relevent experience</td>\n",
       "      <td>no_enrollment</td>\n",
       "      <td>Masters</td>\n",
       "      <td>STEM</td>\n",
       "      <td>8</td>\n",
       "      <td>10000+</td>\n",
       "      <td>Pvt Ltd</td>\n",
       "      <td>1</td>\n",
       "      <td>334</td>\n",
       "    </tr>\n",
       "    <tr>\n",
       "      <th>1901</th>\n",
       "      <td>17854</td>\n",
       "      <td>city_114</td>\n",
       "      <td>0.926</td>\n",
       "      <td>NaN</td>\n",
       "      <td>Has relevent experience</td>\n",
       "      <td>no_enrollment</td>\n",
       "      <td>Masters</td>\n",
       "      <td>STEM</td>\n",
       "      <td>15</td>\n",
       "      <td>10000+</td>\n",
       "      <td>Pvt Ltd</td>\n",
       "      <td>2</td>\n",
       "      <td>334</td>\n",
       "    </tr>\n",
       "    <tr>\n",
       "      <th>363</th>\n",
       "      <td>32629</td>\n",
       "      <td>city_136</td>\n",
       "      <td>0.897</td>\n",
       "      <td>male</td>\n",
       "      <td>No relevent experience</td>\n",
       "      <td>Full time course</td>\n",
       "      <td>Graduate</td>\n",
       "      <td>STEM</td>\n",
       "      <td>2</td>\n",
       "      <td>NaN</td>\n",
       "      <td>NaN</td>\n",
       "      <td>never</td>\n",
       "      <td>332</td>\n",
       "    </tr>\n",
       "    <tr>\n",
       "      <th>1101</th>\n",
       "      <td>24845</td>\n",
       "      <td>city_103</td>\n",
       "      <td>0.920</td>\n",
       "      <td>male</td>\n",
       "      <td>No relevent experience</td>\n",
       "      <td>no_enrollment</td>\n",
       "      <td>Masters</td>\n",
       "      <td>STEM</td>\n",
       "      <td>14</td>\n",
       "      <td>50-99</td>\n",
       "      <td>Pvt Ltd</td>\n",
       "      <td>1</td>\n",
       "      <td>332</td>\n",
       "    </tr>\n",
       "    <tr>\n",
       "      <th>1120</th>\n",
       "      <td>27278</td>\n",
       "      <td>city_160</td>\n",
       "      <td>0.920</td>\n",
       "      <td>female</td>\n",
       "      <td>Has relevent experience</td>\n",
       "      <td>no_enrollment</td>\n",
       "      <td>Masters</td>\n",
       "      <td>STEM</td>\n",
       "      <td>11</td>\n",
       "      <td>1000-4999</td>\n",
       "      <td>NaN</td>\n",
       "      <td>2</td>\n",
       "      <td>332</td>\n",
       "    </tr>\n",
       "    <tr>\n",
       "      <th>1554</th>\n",
       "      <td>2326</td>\n",
       "      <td>city_103</td>\n",
       "      <td>0.920</td>\n",
       "      <td>male</td>\n",
       "      <td>No relevent experience</td>\n",
       "      <td>Full time course</td>\n",
       "      <td>High School</td>\n",
       "      <td>NaN</td>\n",
       "      <td>7</td>\n",
       "      <td>NaN</td>\n",
       "      <td>NaN</td>\n",
       "      <td>1</td>\n",
       "      <td>332</td>\n",
       "    </tr>\n",
       "    <tr>\n",
       "      <th>1842</th>\n",
       "      <td>1346</td>\n",
       "      <td>city_103</td>\n",
       "      <td>0.920</td>\n",
       "      <td>male</td>\n",
       "      <td>Has relevent experience</td>\n",
       "      <td>no_enrollment</td>\n",
       "      <td>Masters</td>\n",
       "      <td>STEM</td>\n",
       "      <td>7</td>\n",
       "      <td>100-500</td>\n",
       "      <td>Public Sector</td>\n",
       "      <td>4</td>\n",
       "      <td>332</td>\n",
       "    </tr>\n",
       "    <tr>\n",
       "      <th>1698</th>\n",
       "      <td>24670</td>\n",
       "      <td>city_103</td>\n",
       "      <td>0.920</td>\n",
       "      <td>male</td>\n",
       "      <td>Has relevent experience</td>\n",
       "      <td>no_enrollment</td>\n",
       "      <td>Graduate</td>\n",
       "      <td>STEM</td>\n",
       "      <td>15</td>\n",
       "      <td>100-500</td>\n",
       "      <td>Pvt Ltd</td>\n",
       "      <td>&gt;4</td>\n",
       "      <td>330</td>\n",
       "    </tr>\n",
       "    <tr>\n",
       "      <th>95</th>\n",
       "      <td>2934</td>\n",
       "      <td>city_75</td>\n",
       "      <td>0.939</td>\n",
       "      <td>male</td>\n",
       "      <td>Has relevent experience</td>\n",
       "      <td>no_enrollment</td>\n",
       "      <td>Phd</td>\n",
       "      <td>STEM</td>\n",
       "      <td>21</td>\n",
       "      <td>1000-4999</td>\n",
       "      <td>Pvt Ltd</td>\n",
       "      <td>3</td>\n",
       "      <td>328</td>\n",
       "    </tr>\n",
       "    <tr>\n",
       "      <th>715</th>\n",
       "      <td>23344</td>\n",
       "      <td>city_11</td>\n",
       "      <td>0.550</td>\n",
       "      <td>male</td>\n",
       "      <td>Has relevent experience</td>\n",
       "      <td>no_enrollment</td>\n",
       "      <td>Masters</td>\n",
       "      <td>STEM</td>\n",
       "      <td>9</td>\n",
       "      <td>NaN</td>\n",
       "      <td>NaN</td>\n",
       "      <td>2</td>\n",
       "      <td>324</td>\n",
       "    </tr>\n",
       "  </tbody>\n",
       "</table>\n",
       "</div>"
      ],
      "text/plain": [
       "      enrollee_id      city  city_development_index  gender  \\\n",
       "493          7443  city_173                   0.878    male   \n",
       "1901        17854  city_114                   0.926     NaN   \n",
       "363         32629  city_136                   0.897    male   \n",
       "1101        24845  city_103                   0.920    male   \n",
       "1120        27278  city_160                   0.920  female   \n",
       "1554         2326  city_103                   0.920    male   \n",
       "1842         1346  city_103                   0.920    male   \n",
       "1698        24670  city_103                   0.920    male   \n",
       "95           2934   city_75                   0.939    male   \n",
       "715         23344   city_11                   0.550    male   \n",
       "\n",
       "          relevent_experience enrolled_university education_level  \\\n",
       "493   Has relevent experience       no_enrollment         Masters   \n",
       "1901  Has relevent experience       no_enrollment         Masters   \n",
       "363    No relevent experience    Full time course        Graduate   \n",
       "1101   No relevent experience       no_enrollment         Masters   \n",
       "1120  Has relevent experience       no_enrollment         Masters   \n",
       "1554   No relevent experience    Full time course     High School   \n",
       "1842  Has relevent experience       no_enrollment         Masters   \n",
       "1698  Has relevent experience       no_enrollment        Graduate   \n",
       "95    Has relevent experience       no_enrollment             Phd   \n",
       "715   Has relevent experience       no_enrollment         Masters   \n",
       "\n",
       "     major_discipline experience company_size   company_type last_new_job  \\\n",
       "493              STEM          8       10000+        Pvt Ltd            1   \n",
       "1901             STEM         15       10000+        Pvt Ltd            2   \n",
       "363              STEM          2          NaN            NaN        never   \n",
       "1101             STEM         14        50-99        Pvt Ltd            1   \n",
       "1120             STEM         11    1000-4999            NaN            2   \n",
       "1554              NaN          7          NaN            NaN            1   \n",
       "1842             STEM          7      100-500  Public Sector            4   \n",
       "1698             STEM         15      100-500        Pvt Ltd           >4   \n",
       "95               STEM         21    1000-4999        Pvt Ltd            3   \n",
       "715              STEM          9          NaN            NaN            2   \n",
       "\n",
       "      training_hours  \n",
       "493              334  \n",
       "1901             334  \n",
       "363              332  \n",
       "1101             332  \n",
       "1120             332  \n",
       "1554             332  \n",
       "1842             332  \n",
       "1698             330  \n",
       "95               328  \n",
       "715              324  "
      ]
     },
     "execution_count": 31,
     "metadata": {},
     "output_type": "execute_result"
    }
   ],
   "source": [
    "# To print 10 largest elements in training_hours\n",
    "df.nlargest(10,\"training_hours\")"
   ]
  },
  {
   "cell_type": "code",
   "execution_count": 32,
   "id": "14cbe763",
   "metadata": {},
   "outputs": [
    {
     "data": {
      "text/html": [
       "<div>\n",
       "<style scoped>\n",
       "    .dataframe tbody tr th:only-of-type {\n",
       "        vertical-align: middle;\n",
       "    }\n",
       "\n",
       "    .dataframe tbody tr th {\n",
       "        vertical-align: top;\n",
       "    }\n",
       "\n",
       "    .dataframe thead th {\n",
       "        text-align: right;\n",
       "    }\n",
       "</style>\n",
       "<table border=\"1\" class=\"dataframe\">\n",
       "  <thead>\n",
       "    <tr style=\"text-align: right;\">\n",
       "      <th></th>\n",
       "      <th>enrollee_id</th>\n",
       "      <th>city</th>\n",
       "      <th>city_development_index</th>\n",
       "      <th>gender</th>\n",
       "      <th>relevent_experience</th>\n",
       "      <th>enrolled_university</th>\n",
       "      <th>education_level</th>\n",
       "      <th>major_discipline</th>\n",
       "      <th>experience</th>\n",
       "      <th>company_size</th>\n",
       "      <th>company_type</th>\n",
       "      <th>last_new_job</th>\n",
       "      <th>training_hours</th>\n",
       "    </tr>\n",
       "  </thead>\n",
       "  <tbody>\n",
       "    <tr>\n",
       "      <th>649</th>\n",
       "      <td>22527</td>\n",
       "      <td>city_33</td>\n",
       "      <td>0.448</td>\n",
       "      <td>male</td>\n",
       "      <td>No relevent experience</td>\n",
       "      <td>no_enrollment</td>\n",
       "      <td>Graduate</td>\n",
       "      <td>STEM</td>\n",
       "      <td>4</td>\n",
       "      <td>NaN</td>\n",
       "      <td>NaN</td>\n",
       "      <td>2</td>\n",
       "      <td>100</td>\n",
       "    </tr>\n",
       "    <tr>\n",
       "      <th>673</th>\n",
       "      <td>18752</td>\n",
       "      <td>city_33</td>\n",
       "      <td>0.448</td>\n",
       "      <td>male</td>\n",
       "      <td>Has relevent experience</td>\n",
       "      <td>no_enrollment</td>\n",
       "      <td>Masters</td>\n",
       "      <td>STEM</td>\n",
       "      <td>9</td>\n",
       "      <td>NaN</td>\n",
       "      <td>NaN</td>\n",
       "      <td>1</td>\n",
       "      <td>40</td>\n",
       "    </tr>\n",
       "    <tr>\n",
       "      <th>989</th>\n",
       "      <td>31672</td>\n",
       "      <td>city_126</td>\n",
       "      <td>0.479</td>\n",
       "      <td>male</td>\n",
       "      <td>Has relevent experience</td>\n",
       "      <td>Full time course</td>\n",
       "      <td>NaN</td>\n",
       "      <td>NaN</td>\n",
       "      <td>0</td>\n",
       "      <td>&lt;10</td>\n",
       "      <td>Public Sector</td>\n",
       "      <td>1</td>\n",
       "      <td>29</td>\n",
       "    </tr>\n",
       "    <tr>\n",
       "      <th>1031</th>\n",
       "      <td>21308</td>\n",
       "      <td>city_126</td>\n",
       "      <td>0.479</td>\n",
       "      <td>male</td>\n",
       "      <td>Has relevent experience</td>\n",
       "      <td>Part time course</td>\n",
       "      <td>Graduate</td>\n",
       "      <td>STEM</td>\n",
       "      <td>2</td>\n",
       "      <td>NaN</td>\n",
       "      <td>NaN</td>\n",
       "      <td>2</td>\n",
       "      <td>26</td>\n",
       "    </tr>\n",
       "    <tr>\n",
       "      <th>101</th>\n",
       "      <td>26180</td>\n",
       "      <td>city_139</td>\n",
       "      <td>0.487</td>\n",
       "      <td>male</td>\n",
       "      <td>No relevent experience</td>\n",
       "      <td>Full time course</td>\n",
       "      <td>Graduate</td>\n",
       "      <td>STEM</td>\n",
       "      <td>1</td>\n",
       "      <td>10/49</td>\n",
       "      <td>Pvt Ltd</td>\n",
       "      <td>never</td>\n",
       "      <td>64</td>\n",
       "    </tr>\n",
       "    <tr>\n",
       "      <th>918</th>\n",
       "      <td>26694</td>\n",
       "      <td>city_48</td>\n",
       "      <td>0.493</td>\n",
       "      <td>NaN</td>\n",
       "      <td>Has relevent experience</td>\n",
       "      <td>Full time course</td>\n",
       "      <td>Graduate</td>\n",
       "      <td>STEM</td>\n",
       "      <td>2</td>\n",
       "      <td>NaN</td>\n",
       "      <td>NaN</td>\n",
       "      <td>never</td>\n",
       "      <td>15</td>\n",
       "    </tr>\n",
       "    <tr>\n",
       "      <th>382</th>\n",
       "      <td>12695</td>\n",
       "      <td>city_179</td>\n",
       "      <td>0.512</td>\n",
       "      <td>male</td>\n",
       "      <td>Has relevent experience</td>\n",
       "      <td>no_enrollment</td>\n",
       "      <td>Masters</td>\n",
       "      <td>STEM</td>\n",
       "      <td>9</td>\n",
       "      <td>10/49</td>\n",
       "      <td>Pvt Ltd</td>\n",
       "      <td>1</td>\n",
       "      <td>53</td>\n",
       "    </tr>\n",
       "    <tr>\n",
       "      <th>1044</th>\n",
       "      <td>15640</td>\n",
       "      <td>city_43</td>\n",
       "      <td>0.516</td>\n",
       "      <td>male</td>\n",
       "      <td>Has relevent experience</td>\n",
       "      <td>no_enrollment</td>\n",
       "      <td>Graduate</td>\n",
       "      <td>STEM</td>\n",
       "      <td>6</td>\n",
       "      <td>1000-4999</td>\n",
       "      <td>Pvt Ltd</td>\n",
       "      <td>2</td>\n",
       "      <td>100</td>\n",
       "    </tr>\n",
       "    <tr>\n",
       "      <th>1325</th>\n",
       "      <td>25155</td>\n",
       "      <td>city_43</td>\n",
       "      <td>0.516</td>\n",
       "      <td>NaN</td>\n",
       "      <td>Has relevent experience</td>\n",
       "      <td>no_enrollment</td>\n",
       "      <td>Graduate</td>\n",
       "      <td>STEM</td>\n",
       "      <td>2</td>\n",
       "      <td>NaN</td>\n",
       "      <td>NaN</td>\n",
       "      <td>1</td>\n",
       "      <td>28</td>\n",
       "    </tr>\n",
       "    <tr>\n",
       "      <th>266</th>\n",
       "      <td>4863</td>\n",
       "      <td>city_107</td>\n",
       "      <td>0.518</td>\n",
       "      <td>male</td>\n",
       "      <td>No relevent experience</td>\n",
       "      <td>Full time course</td>\n",
       "      <td>High School</td>\n",
       "      <td>NaN</td>\n",
       "      <td>2</td>\n",
       "      <td>NaN</td>\n",
       "      <td>Pvt Ltd</td>\n",
       "      <td>never</td>\n",
       "      <td>28</td>\n",
       "    </tr>\n",
       "  </tbody>\n",
       "</table>\n",
       "</div>"
      ],
      "text/plain": [
       "      enrollee_id      city  city_development_index gender  \\\n",
       "649         22527   city_33                   0.448   male   \n",
       "673         18752   city_33                   0.448   male   \n",
       "989         31672  city_126                   0.479   male   \n",
       "1031        21308  city_126                   0.479   male   \n",
       "101         26180  city_139                   0.487   male   \n",
       "918         26694   city_48                   0.493    NaN   \n",
       "382         12695  city_179                   0.512   male   \n",
       "1044        15640   city_43                   0.516   male   \n",
       "1325        25155   city_43                   0.516    NaN   \n",
       "266          4863  city_107                   0.518   male   \n",
       "\n",
       "          relevent_experience enrolled_university education_level  \\\n",
       "649    No relevent experience       no_enrollment        Graduate   \n",
       "673   Has relevent experience       no_enrollment         Masters   \n",
       "989   Has relevent experience    Full time course             NaN   \n",
       "1031  Has relevent experience    Part time course        Graduate   \n",
       "101    No relevent experience    Full time course        Graduate   \n",
       "918   Has relevent experience    Full time course        Graduate   \n",
       "382   Has relevent experience       no_enrollment         Masters   \n",
       "1044  Has relevent experience       no_enrollment        Graduate   \n",
       "1325  Has relevent experience       no_enrollment        Graduate   \n",
       "266    No relevent experience    Full time course     High School   \n",
       "\n",
       "     major_discipline experience company_size   company_type last_new_job  \\\n",
       "649              STEM          4          NaN            NaN            2   \n",
       "673              STEM          9          NaN            NaN            1   \n",
       "989               NaN          0          <10  Public Sector            1   \n",
       "1031             STEM          2          NaN            NaN            2   \n",
       "101              STEM          1        10/49        Pvt Ltd        never   \n",
       "918              STEM          2          NaN            NaN        never   \n",
       "382              STEM          9        10/49        Pvt Ltd            1   \n",
       "1044             STEM          6    1000-4999        Pvt Ltd            2   \n",
       "1325             STEM          2          NaN            NaN            1   \n",
       "266               NaN          2          NaN        Pvt Ltd        never   \n",
       "\n",
       "      training_hours  \n",
       "649              100  \n",
       "673               40  \n",
       "989               29  \n",
       "1031              26  \n",
       "101               64  \n",
       "918               15  \n",
       "382               53  \n",
       "1044             100  \n",
       "1325              28  \n",
       "266               28  "
      ]
     },
     "execution_count": 32,
     "metadata": {},
     "output_type": "execute_result"
    }
   ],
   "source": [
    "# To print 10 smallest elements in city_development_index\n",
    "df.nsmallest(10,\"city_development_index\")"
   ]
  },
  {
   "cell_type": "markdown",
   "id": "a5064d8d",
   "metadata": {},
   "source": [
    "### Statistical Analysis of Dataset\n",
    "\n",
    "***It is used to calculating summary of statistics(eg:mean,mode,median,max,min,count,sum) to understand the central tendency & variability"
   ]
  },
  {
   "cell_type": "code",
   "execution_count": 33,
   "id": "8dd6bbda",
   "metadata": {},
   "outputs": [
    {
     "data": {
      "text/plain": [
       "64.98309065288868"
      ]
     },
     "execution_count": 33,
     "metadata": {},
     "output_type": "execute_result"
    }
   ],
   "source": [
    "df[\"training_hours\"].mean()"
   ]
  },
  {
   "cell_type": "code",
   "execution_count": 34,
   "id": "8d0f150b",
   "metadata": {},
   "outputs": [
    {
     "data": {
      "text/plain": [
       "47.0"
      ]
     },
     "execution_count": 34,
     "metadata": {},
     "output_type": "execute_result"
    }
   ],
   "source": [
    "df[\"training_hours\"].median()"
   ]
  },
  {
   "cell_type": "code",
   "execution_count": 35,
   "id": "8c8a22b7",
   "metadata": {},
   "outputs": [
    {
     "data": {
      "text/plain": [
       "334"
      ]
     },
     "execution_count": 35,
     "metadata": {},
     "output_type": "execute_result"
    }
   ],
   "source": [
    "df[\"training_hours\"].max()"
   ]
  },
  {
   "cell_type": "code",
   "execution_count": 36,
   "id": "f8dbf8c4",
   "metadata": {},
   "outputs": [
    {
     "data": {
      "text/plain": [
       "3"
      ]
     },
     "execution_count": 36,
     "metadata": {},
     "output_type": "execute_result"
    }
   ],
   "source": [
    "df[\"enrollee_id\"].min()"
   ]
  },
  {
   "cell_type": "code",
   "execution_count": 37,
   "id": "daff5d5e",
   "metadata": {},
   "outputs": [
    {
     "data": {
      "text/plain": [
       "138349"
      ]
     },
     "execution_count": 37,
     "metadata": {},
     "output_type": "execute_result"
    }
   ],
   "source": [
    "df[\"training_hours\"].sum()"
   ]
  },
  {
   "cell_type": "code",
   "execution_count": 38,
   "id": "6c0bb3fe",
   "metadata": {},
   "outputs": [
    {
     "data": {
      "text/plain": [
       "0    city_103\n",
       "Name: city, dtype: object"
      ]
     },
     "execution_count": 38,
     "metadata": {},
     "output_type": "execute_result"
    }
   ],
   "source": [
    "df[\"city\"].mode()"
   ]
  },
  {
   "cell_type": "code",
   "execution_count": 39,
   "id": "3bef90e1",
   "metadata": {},
   "outputs": [
    {
     "data": {
      "text/plain": [
       "2129"
      ]
     },
     "execution_count": 39,
     "metadata": {},
     "output_type": "execute_result"
    }
   ],
   "source": [
    "df[\"city\"].count()"
   ]
  },
  {
   "cell_type": "code",
   "execution_count": 40,
   "id": "e9e54d55",
   "metadata": {},
   "outputs": [
    {
     "data": {
      "text/plain": [
       "60.238659866493066"
      ]
     },
     "execution_count": 40,
     "metadata": {},
     "output_type": "execute_result"
    }
   ],
   "source": [
    "df[\"training_hours\"].std()"
   ]
  },
  {
   "cell_type": "markdown",
   "id": "f47d485d",
   "metadata": {},
   "source": [
    "### Correlation\n",
    "\n",
    "Correlation is a statistical measure that describes the \"strength and direction\" of a relationship between two variables.\n",
    "\n",
    "   Values range from -1 to +1:\n",
    "       \n",
    "       ** +1 → Perfect positive relationship\n",
    "       **  0 → No relationship\n",
    "       ** -1 → Perfect negative relationship\n",
    "   \n",
    "   Types of correlation :\n",
    "   \n",
    "      1. Pearson Correlation:\n",
    "       ** Measures linear relationships between continuous variables\n",
    "       ** Sensitive to outliers\n",
    "       ** Used when data is normally distributed\n",
    "       \n",
    "       2.  Spearman Correlation\n",
    "      ** Measures non-linear relationships\n",
    "      ** Works with ordinal data or when data is not normally distributed."
   ]
  },
  {
   "cell_type": "code",
   "execution_count": 41,
   "id": "067e0184",
   "metadata": {},
   "outputs": [
    {
     "data": {
      "text/html": [
       "<div>\n",
       "<style scoped>\n",
       "    .dataframe tbody tr th:only-of-type {\n",
       "        vertical-align: middle;\n",
       "    }\n",
       "\n",
       "    .dataframe tbody tr th {\n",
       "        vertical-align: top;\n",
       "    }\n",
       "\n",
       "    .dataframe thead th {\n",
       "        text-align: right;\n",
       "    }\n",
       "</style>\n",
       "<table border=\"1\" class=\"dataframe\">\n",
       "  <thead>\n",
       "    <tr style=\"text-align: right;\">\n",
       "      <th></th>\n",
       "      <th>enrollee_id</th>\n",
       "      <th>training_hours</th>\n",
       "    </tr>\n",
       "  </thead>\n",
       "  <tbody>\n",
       "    <tr>\n",
       "      <th>enrollee_id</th>\n",
       "      <td>1.000000</td>\n",
       "      <td>0.003239</td>\n",
       "    </tr>\n",
       "    <tr>\n",
       "      <th>training_hours</th>\n",
       "      <td>0.003239</td>\n",
       "      <td>1.000000</td>\n",
       "    </tr>\n",
       "  </tbody>\n",
       "</table>\n",
       "</div>"
      ],
      "text/plain": [
       "                enrollee_id  training_hours\n",
       "enrollee_id        1.000000        0.003239\n",
       "training_hours     0.003239        1.000000"
      ]
     },
     "execution_count": 41,
     "metadata": {},
     "output_type": "execute_result"
    }
   ],
   "source": [
    "corr_matrix = df[[\"enrollee_id\",\"training_hours\"]].corr()\n",
    "corr_matrix"
   ]
  },
  {
   "cell_type": "markdown",
   "id": "e0782a18",
   "metadata": {},
   "source": [
    "### Heatmap\n",
    "\n",
    " It is visualize correlation or relationship between two variables.It is particularly useful for showing patterns, correlations, and outliers in large datasets.\n",
    "    \n",
    "  Mainly used to correlation Analysis.\n"
   ]
  },
  {
   "cell_type": "code",
   "execution_count": 42,
   "id": "cd2c5f3b",
   "metadata": {},
   "outputs": [
    {
     "data": {
      "image/png": "[encoded data removed]",
      "text/plain": [
       "<Figure size 400x300 with 2 Axes>"
      ]
     },
     "metadata": {},
     "output_type": "display_data"
    }
   ],
   "source": [
    "plt.figure(figsize=(4,3))\n",
    "sns.heatmap(corr_matrix,annot=True,cmap=\"coolwarm\",fmt=\".2f\")\n",
    "plt.show()"
   ]
  },
  {
   "cell_type": "markdown",
   "id": "90a2a46d",
   "metadata": {},
   "source": [
    "### Insights :\n",
    "The color scale on the right goes from blue (low correlation) to red (high correlation).\n",
    "\n",
    "The values inside the squares show the correlation coefficient between the variables:\n",
    "\n",
    " 1.A value of 1.00 means a perfect positive correlation .\n",
    " \n",
    " 2.A value of -0.01 means no correlation ."
   ]
  },
  {
   "cell_type": "code",
   "execution_count": 43,
   "id": "d52c5edb",
   "metadata": {},
   "outputs": [
    {
     "data": {
      "text/html": [
       "<div>\n",
       "<style scoped>\n",
       "    .dataframe tbody tr th:only-of-type {\n",
       "        vertical-align: middle;\n",
       "    }\n",
       "\n",
       "    .dataframe tbody tr th {\n",
       "        vertical-align: top;\n",
       "    }\n",
       "\n",
       "    .dataframe thead th {\n",
       "        text-align: right;\n",
       "    }\n",
       "</style>\n",
       "<table border=\"1\" class=\"dataframe\">\n",
       "  <thead>\n",
       "    <tr style=\"text-align: right;\">\n",
       "      <th></th>\n",
       "      <th>enrollee_id</th>\n",
       "      <th>training_hours</th>\n",
       "    </tr>\n",
       "  </thead>\n",
       "  <tbody>\n",
       "    <tr>\n",
       "      <th>enrollee_id</th>\n",
       "      <td>1.000000</td>\n",
       "      <td>0.003239</td>\n",
       "    </tr>\n",
       "    <tr>\n",
       "      <th>training_hours</th>\n",
       "      <td>0.003239</td>\n",
       "      <td>1.000000</td>\n",
       "    </tr>\n",
       "  </tbody>\n",
       "</table>\n",
       "</div>"
      ],
      "text/plain": [
       "                enrollee_id  training_hours\n",
       "enrollee_id        1.000000        0.003239\n",
       "training_hours     0.003239        1.000000"
      ]
     },
     "execution_count": 43,
     "metadata": {},
     "output_type": "execute_result"
    }
   ],
   "source": [
    "corr_matrix = df[[\"enrollee_id\",\"training_hours\"]].corr(method=\"pearson\")\n",
    "corr_matrix"
   ]
  },
  {
   "cell_type": "code",
   "execution_count": 44,
   "id": "ba16f11f",
   "metadata": {},
   "outputs": [
    {
     "data": {
      "text/html": [
       "<div>\n",
       "<style scoped>\n",
       "    .dataframe tbody tr th:only-of-type {\n",
       "        vertical-align: middle;\n",
       "    }\n",
       "\n",
       "    .dataframe tbody tr th {\n",
       "        vertical-align: top;\n",
       "    }\n",
       "\n",
       "    .dataframe thead th {\n",
       "        text-align: right;\n",
       "    }\n",
       "</style>\n",
       "<table border=\"1\" class=\"dataframe\">\n",
       "  <thead>\n",
       "    <tr style=\"text-align: right;\">\n",
       "      <th></th>\n",
       "      <th>enrollee_id</th>\n",
       "      <th>training_hours</th>\n",
       "    </tr>\n",
       "  </thead>\n",
       "  <tbody>\n",
       "    <tr>\n",
       "      <th>enrollee_id</th>\n",
       "      <td>1.000000</td>\n",
       "      <td>-0.005418</td>\n",
       "    </tr>\n",
       "    <tr>\n",
       "      <th>training_hours</th>\n",
       "      <td>-0.005418</td>\n",
       "      <td>1.000000</td>\n",
       "    </tr>\n",
       "  </tbody>\n",
       "</table>\n",
       "</div>"
      ],
      "text/plain": [
       "                enrollee_id  training_hours\n",
       "enrollee_id        1.000000       -0.005418\n",
       "training_hours    -0.005418        1.000000"
      ]
     },
     "execution_count": 44,
     "metadata": {},
     "output_type": "execute_result"
    }
   ],
   "source": [
    "corr_matrix = df[[\"enrollee_id\",\"training_hours\"]].corr(method=\"spearman\")\n",
    "corr_matrix"
   ]
  },
  {
   "cell_type": "markdown",
   "id": "7d74a23a",
   "metadata": {},
   "source": [
    "### co-variance\n",
    "\n",
    "Covariance is a statistical measure that indicates the \"direction\" of a linear relationship between two numerical variables. \n",
    "\n",
    "    ** Positive covariance → As one variable increases, the other tends to increase(+infinity)\n",
    "    ** Negative covariance → As one variable increases, the other tends to decrease(-infinity)\n",
    "    ** Zero covariance → No linear relationship\n",
    "\n"
   ]
  },
  {
   "cell_type": "code",
   "execution_count": 45,
   "id": "516bd577",
   "metadata": {},
   "outputs": [
    {
     "data": {
      "text/html": [
       "<div>\n",
       "<style scoped>\n",
       "    .dataframe tbody tr th:only-of-type {\n",
       "        vertical-align: middle;\n",
       "    }\n",
       "\n",
       "    .dataframe tbody tr th {\n",
       "        vertical-align: top;\n",
       "    }\n",
       "\n",
       "    .dataframe thead th {\n",
       "        text-align: right;\n",
       "    }\n",
       "</style>\n",
       "<table border=\"1\" class=\"dataframe\">\n",
       "  <thead>\n",
       "    <tr style=\"text-align: right;\">\n",
       "      <th></th>\n",
       "      <th>enrollee_id</th>\n",
       "      <th>training_hours</th>\n",
       "    </tr>\n",
       "  </thead>\n",
       "  <tbody>\n",
       "    <tr>\n",
       "      <th>enrollee_id</th>\n",
       "      <td>9.171598e+07</td>\n",
       "      <td>1868.727507</td>\n",
       "    </tr>\n",
       "    <tr>\n",
       "      <th>training_hours</th>\n",
       "      <td>1.868728e+03</td>\n",
       "      <td>3628.696143</td>\n",
       "    </tr>\n",
       "  </tbody>\n",
       "</table>\n",
       "</div>"
      ],
      "text/plain": [
       "                 enrollee_id  training_hours\n",
       "enrollee_id     9.171598e+07     1868.727507\n",
       "training_hours  1.868728e+03     3628.696143"
      ]
     },
     "execution_count": 45,
     "metadata": {},
     "output_type": "execute_result"
    }
   ],
   "source": [
    "cov_matrix = df[[\"enrollee_id\",\"training_hours\"]].cov()\n",
    "cov_matrix"
   ]
  },
  {
   "cell_type": "markdown",
   "id": "d0c7b284",
   "metadata": {},
   "source": [
    "### Scatter plot\n",
    "\n",
    "A scatter plot is a type of graph used to show the relationship between two variables. It helps in:\n",
    "\n",
    "    Identifying correlations (positive, negative, or none)\n",
    "    Spotting trends and patterns\n",
    "    Detecting outliers\n",
    "    Visualizing data distribution\n"
   ]
  },
  {
   "cell_type": "code",
   "execution_count": 46,
   "id": "6c87258d",
   "metadata": {
    "scrolled": false
   },
   "outputs": [
    {
     "name": "stderr",
     "output_type": "stream",
     "text": [
      "No artists with labels found to put in legend.  Note that artists whose label start with an underscore are ignored when legend() is called with no argument.\n"
     ]
    },
    {
     "data": {
      "image/png": "[encoded data removed]",
      "text/plain": [
       "<Figure size 600x500 with 1 Axes>"
      ]
     },
     "metadata": {},
     "output_type": "display_data"
    }
   ],
   "source": [
    "plt.figure(figsize=(6, 5))\n",
    "sns.scatterplot(x='enrollee_id', y='training_hours',data=df)\n",
    "plt.title('Scatter Plot of Training Hours vs Enrollee_id')\n",
    "plt.xlabel('Enrollee_id')\n",
    "plt.ylabel('Training Hours')\n",
    "plt.legend(title='Gender')\n",
    "plt.tight_layout()\n",
    "plt.show()"
   ]
  },
  {
   "cell_type": "markdown",
   "id": "401b1fa8",
   "metadata": {},
   "source": [
    "### Insights\n",
    "\n",
    "This plot shows:\n",
    "\n",
    "X-axis: Enrollee_id (likely unique IDs for participants).\n",
    "\n",
    "Y-axis: Training Hours.\n",
    "\n",
    "This scatter plot illustrates the number of training hours received by each enrollee. Each point represents an individual enrollee. While the enrollee IDs vary widely, most training hours fall below 100, with a few outliers receiving more than 200 hours of training"
   ]
  },
  {
   "cell_type": "markdown",
   "id": "0c2b9dac",
   "metadata": {},
   "source": [
    "### Histogram\n",
    "\n",
    "A Histogram Displays the distribution of continuous data showing the frequency of data in a particular range"
   ]
  },
  {
   "cell_type": "code",
   "execution_count": 47,
   "id": "dae052c8",
   "metadata": {},
   "outputs": [
    {
     "name": "stderr",
     "output_type": "stream",
     "text": [
      "No artists with labels found to put in legend.  Note that artists whose label start with an underscore are ignored when legend() is called with no argument.\n"
     ]
    },
    {
     "data": {
      "image/png": "[encoded data removed]",
      "text/plain": [
       "<Figure size 600x500 with 1 Axes>"
      ]
     },
     "metadata": {},
     "output_type": "display_data"
    }
   ],
   "source": [
    "plt.figure(figsize=(6, 5))\n",
    "sns.histplot(data=df, x='gender', bins=20,kde=True)\n",
    "plt.title('Histogram of gender')\n",
    "plt.xlabel('gender')\n",
    "plt.ylabel('Frequency')\n",
    "plt.legend()\n",
    "plt.grid(True)\n",
    "plt.tight_layout()\n",
    "plt.show()"
   ]
  },
  {
   "cell_type": "markdown",
   "id": "933caef8",
   "metadata": {},
   "source": [
    "### Insights\n",
    "\n",
    "This Plot Shows :\n",
    "\n",
    "X-axis : gender\n",
    "    \n",
    "Y-axis : Frequency\n",
    "\n",
    "This histogram visualizes gender representation in the dataset.\n",
    "\n",
    "Male entries dominate the data.\n",
    "\n",
    "Female entries are significantly fewer.\n",
    "\n",
    "Other gender identities are minimally represented.\n",
    "\n",
    "The density curve may not be meaningful here since gender is a categorical variable"
   ]
  },
  {
   "cell_type": "markdown",
   "id": "5b78b6a7",
   "metadata": {},
   "source": [
    "### Violin Plot \n",
    "\n",
    "It is used to visualize the distribution & comparsion of variables.\n",
    "\n",
    "##### violin plot=box plot + density"
   ]
  },
  {
   "cell_type": "code",
   "execution_count": 48,
   "id": "35380ca9",
   "metadata": {},
   "outputs": [
    {
     "data": {
      "image/png": "[encoded data removed]",
      "text/plain": [
       "<Figure size 600x500 with 1 Axes>"
      ]
     },
     "metadata": {},
     "output_type": "display_data"
    }
   ],
   "source": [
    "plt.figure(figsize=(6, 5))\n",
    "sns.violinplot(x='gender', y='training_hours', data=df)\n",
    "plt.title('Violin Plot of Training Hours by Gender')\n",
    "plt.xlabel('Gender')\n",
    "plt.ylabel('Training Hours')\n",
    "plt.grid(True)\n",
    "plt.tight_layout()\n",
    "plt.show()"
   ]
  },
  {
   "cell_type": "markdown",
   "id": "3e75fe45",
   "metadata": {},
   "source": [
    "### Insights :\n",
    "\n",
    "This Pot Shows :\n",
    "\n",
    "x-axis : Gender\n",
    "\n",
    "y-axis : Training Hours\n",
    "\n",
    "Central white dot: Represents the median training hours for each group.\n",
    "\n",
    "Thick black bar: Indicates the interquartile range (middle 50% of the data).\n",
    "\n",
    "Shape width: Wider sections indicate where more data points are concentrated.\n",
    "\n",
    "The violin plot shows the distribution of training hours by gender (male, female, other). All groups have a similar median, with most training hours clustered between 0 and 100. The \"other\" category displays a wider spread, indicating more variation in training hours. This plot highlights how training is distributed across gender groups."
   ]
  },
  {
   "cell_type": "markdown",
   "id": "58fcfff2",
   "metadata": {},
   "source": [
    "### Density Plot or kernel density plot\n",
    " It is used to visualize probablity density function continuous variables.\n",
    "\n",
    "probablity density function represents probablity over an interval."
   ]
  },
  {
   "cell_type": "code",
   "execution_count": 49,
   "id": "32ef6e92",
   "metadata": {},
   "outputs": [
    {
     "data": {
      "image/png": "[encoded data removed]",
      "text/plain": [
       "<Figure size 600x500 with 1 Axes>"
      ]
     },
     "metadata": {},
     "output_type": "display_data"
    }
   ],
   "source": [
    "plt.figure(figsize=(6, 5))\n",
    "sns.kdeplot(data=df, x='training_hours', hue='gender', fill=True)\n",
    "plt.title('KDE Plot of Training Hours by Gender')\n",
    "plt.xlabel('Training Hours')\n",
    "plt.ylabel('Density')\n",
    "plt.grid(True)\n",
    "plt.tight_layout()\n",
    "plt.show()"
   ]
  },
  {
   "cell_type": "markdown",
   "id": "4d52de71",
   "metadata": {},
   "source": [
    "### Insights\n",
    "\n",
    "This plot shows :\n",
    "\n",
    "X-axis : Training Hours\n",
    "\n",
    "Y-axis : Density\n",
    "\n",
    "This Kernel Density Estimation (KDE) plot visualizes the distribution of training hours categorized by gender (male, female, and other). \n",
    "The density peaks indicate where most individuals fall in terms of training time.\n",
    "Males have a significantly higher and sharper peak, suggesting a larger concentration around a specific range of training hours, while females and others show flatter distributions, indicating more spread-out training durations.\n"
   ]
  },
  {
   "cell_type": "markdown",
   "id": "bfcaa5ce",
   "metadata": {},
   "source": [
    "### Bar Plot\n",
    "\n",
    "A bar plot compares categorical data,showing the magnitude of each category.\n",
    "\n",
    "box with trends & outliers.\n",
    "\n",
    "A box plot commonly used to data visualization."
   ]
  },
  {
   "cell_type": "code",
   "execution_count": 50,
   "id": "cc307f0e",
   "metadata": {},
   "outputs": [
    {
     "data": {
      "image/png": "[encoded data removed]",
      "text/plain": [
       "<Figure size 600x500 with 1 Axes>"
      ]
     },
     "metadata": {},
     "output_type": "display_data"
    }
   ],
   "source": [
    "plt.figure(figsize=(6, 5))\n",
    "sns.barplot(data=df, x='gender', y='training_hours')\n",
    "plt.title('Average Trainsing Hours by Gender')\n",
    "plt.xlabel('Gender')\n",
    "plt.ylabel('Average Training Hours')\n",
    "plt.show()"
   ]
  },
  {
   "cell_type": "markdown",
   "id": "13f5fff5",
   "metadata": {},
   "source": [
    "### Insights\n",
    "\n",
    "The plot shows:\n",
    "    \n",
    " X-axis : Gender\n",
    "    \n",
    "Y-axis : Average Training Hours\n",
    "\n",
    "\"Other\" gender group had the highest average training hours (~81) with high variability.\n",
    "\n",
    "Males averaged ~66 hours with consistent training engagement.\n",
    "\n",
    "Females had the lowest average (~62), indicating possible disparities.\n",
    "\n"
   ]
  },
  {
   "cell_type": "markdown",
   "id": "416ededa",
   "metadata": {},
   "source": [
    "### Identify the NAN/Null values\n",
    "\n",
    "** Checked missing values using isnull().sum().\n",
    "\n",
    "** Several columns contained nulls, especially in categorical variables.\n"
   ]
  },
  {
   "cell_type": "code",
   "execution_count": 51,
   "id": "1923f0b4",
   "metadata": {},
   "outputs": [
    {
     "data": {
      "text/html": [
       "<div>\n",
       "<style scoped>\n",
       "    .dataframe tbody tr th:only-of-type {\n",
       "        vertical-align: middle;\n",
       "    }\n",
       "\n",
       "    .dataframe tbody tr th {\n",
       "        vertical-align: top;\n",
       "    }\n",
       "\n",
       "    .dataframe thead th {\n",
       "        text-align: right;\n",
       "    }\n",
       "</style>\n",
       "<table border=\"1\" class=\"dataframe\">\n",
       "  <thead>\n",
       "    <tr style=\"text-align: right;\">\n",
       "      <th></th>\n",
       "      <th>enrollee_id</th>\n",
       "      <th>city</th>\n",
       "      <th>city_development_index</th>\n",
       "      <th>gender</th>\n",
       "      <th>relevent_experience</th>\n",
       "      <th>enrolled_university</th>\n",
       "      <th>education_level</th>\n",
       "      <th>major_discipline</th>\n",
       "      <th>experience</th>\n",
       "      <th>company_size</th>\n",
       "      <th>company_type</th>\n",
       "      <th>last_new_job</th>\n",
       "      <th>training_hours</th>\n",
       "    </tr>\n",
       "  </thead>\n",
       "  <tbody>\n",
       "    <tr>\n",
       "      <th>0</th>\n",
       "      <td>False</td>\n",
       "      <td>False</td>\n",
       "      <td>False</td>\n",
       "      <td>False</td>\n",
       "      <td>False</td>\n",
       "      <td>False</td>\n",
       "      <td>False</td>\n",
       "      <td>False</td>\n",
       "      <td>False</td>\n",
       "      <td>False</td>\n",
       "      <td>True</td>\n",
       "      <td>False</td>\n",
       "      <td>False</td>\n",
       "    </tr>\n",
       "    <tr>\n",
       "      <th>1</th>\n",
       "      <td>False</td>\n",
       "      <td>False</td>\n",
       "      <td>False</td>\n",
       "      <td>False</td>\n",
       "      <td>False</td>\n",
       "      <td>False</td>\n",
       "      <td>False</td>\n",
       "      <td>False</td>\n",
       "      <td>False</td>\n",
       "      <td>True</td>\n",
       "      <td>False</td>\n",
       "      <td>False</td>\n",
       "      <td>False</td>\n",
       "    </tr>\n",
       "    <tr>\n",
       "      <th>2</th>\n",
       "      <td>False</td>\n",
       "      <td>False</td>\n",
       "      <td>False</td>\n",
       "      <td>False</td>\n",
       "      <td>False</td>\n",
       "      <td>False</td>\n",
       "      <td>False</td>\n",
       "      <td>True</td>\n",
       "      <td>False</td>\n",
       "      <td>True</td>\n",
       "      <td>False</td>\n",
       "      <td>False</td>\n",
       "      <td>False</td>\n",
       "    </tr>\n",
       "    <tr>\n",
       "      <th>3</th>\n",
       "      <td>False</td>\n",
       "      <td>False</td>\n",
       "      <td>False</td>\n",
       "      <td>False</td>\n",
       "      <td>False</td>\n",
       "      <td>False</td>\n",
       "      <td>False</td>\n",
       "      <td>False</td>\n",
       "      <td>False</td>\n",
       "      <td>False</td>\n",
       "      <td>False</td>\n",
       "      <td>False</td>\n",
       "      <td>False</td>\n",
       "    </tr>\n",
       "    <tr>\n",
       "      <th>4</th>\n",
       "      <td>False</td>\n",
       "      <td>False</td>\n",
       "      <td>False</td>\n",
       "      <td>False</td>\n",
       "      <td>False</td>\n",
       "      <td>False</td>\n",
       "      <td>False</td>\n",
       "      <td>False</td>\n",
       "      <td>False</td>\n",
       "      <td>False</td>\n",
       "      <td>False</td>\n",
       "      <td>False</td>\n",
       "      <td>False</td>\n",
       "    </tr>\n",
       "    <tr>\n",
       "      <th>...</th>\n",
       "      <td>...</td>\n",
       "      <td>...</td>\n",
       "      <td>...</td>\n",
       "      <td>...</td>\n",
       "      <td>...</td>\n",
       "      <td>...</td>\n",
       "      <td>...</td>\n",
       "      <td>...</td>\n",
       "      <td>...</td>\n",
       "      <td>...</td>\n",
       "      <td>...</td>\n",
       "      <td>...</td>\n",
       "      <td>...</td>\n",
       "    </tr>\n",
       "    <tr>\n",
       "      <th>2124</th>\n",
       "      <td>False</td>\n",
       "      <td>False</td>\n",
       "      <td>False</td>\n",
       "      <td>False</td>\n",
       "      <td>False</td>\n",
       "      <td>False</td>\n",
       "      <td>False</td>\n",
       "      <td>False</td>\n",
       "      <td>False</td>\n",
       "      <td>True</td>\n",
       "      <td>False</td>\n",
       "      <td>False</td>\n",
       "      <td>False</td>\n",
       "    </tr>\n",
       "    <tr>\n",
       "      <th>2125</th>\n",
       "      <td>False</td>\n",
       "      <td>False</td>\n",
       "      <td>False</td>\n",
       "      <td>False</td>\n",
       "      <td>False</td>\n",
       "      <td>False</td>\n",
       "      <td>False</td>\n",
       "      <td>False</td>\n",
       "      <td>False</td>\n",
       "      <td>True</td>\n",
       "      <td>True</td>\n",
       "      <td>False</td>\n",
       "      <td>False</td>\n",
       "    </tr>\n",
       "    <tr>\n",
       "      <th>2126</th>\n",
       "      <td>False</td>\n",
       "      <td>False</td>\n",
       "      <td>False</td>\n",
       "      <td>False</td>\n",
       "      <td>False</td>\n",
       "      <td>False</td>\n",
       "      <td>False</td>\n",
       "      <td>True</td>\n",
       "      <td>False</td>\n",
       "      <td>True</td>\n",
       "      <td>False</td>\n",
       "      <td>False</td>\n",
       "      <td>False</td>\n",
       "    </tr>\n",
       "    <tr>\n",
       "      <th>2127</th>\n",
       "      <td>False</td>\n",
       "      <td>False</td>\n",
       "      <td>False</td>\n",
       "      <td>False</td>\n",
       "      <td>False</td>\n",
       "      <td>False</td>\n",
       "      <td>False</td>\n",
       "      <td>True</td>\n",
       "      <td>False</td>\n",
       "      <td>False</td>\n",
       "      <td>False</td>\n",
       "      <td>False</td>\n",
       "      <td>False</td>\n",
       "    </tr>\n",
       "    <tr>\n",
       "      <th>2128</th>\n",
       "      <td>False</td>\n",
       "      <td>False</td>\n",
       "      <td>False</td>\n",
       "      <td>False</td>\n",
       "      <td>False</td>\n",
       "      <td>False</td>\n",
       "      <td>False</td>\n",
       "      <td>False</td>\n",
       "      <td>False</td>\n",
       "      <td>False</td>\n",
       "      <td>False</td>\n",
       "      <td>False</td>\n",
       "      <td>False</td>\n",
       "    </tr>\n",
       "  </tbody>\n",
       "</table>\n",
       "<p>2129 rows × 13 columns</p>\n",
       "</div>"
      ],
      "text/plain": [
       "      enrollee_id   city  city_development_index  gender  relevent_experience  \\\n",
       "0           False  False                   False   False                False   \n",
       "1           False  False                   False   False                False   \n",
       "2           False  False                   False   False                False   \n",
       "3           False  False                   False   False                False   \n",
       "4           False  False                   False   False                False   \n",
       "...           ...    ...                     ...     ...                  ...   \n",
       "2124        False  False                   False   False                False   \n",
       "2125        False  False                   False   False                False   \n",
       "2126        False  False                   False   False                False   \n",
       "2127        False  False                   False   False                False   \n",
       "2128        False  False                   False   False                False   \n",
       "\n",
       "      enrolled_university  education_level  major_discipline  experience  \\\n",
       "0                   False            False             False       False   \n",
       "1                   False            False             False       False   \n",
       "2                   False            False              True       False   \n",
       "3                   False            False             False       False   \n",
       "4                   False            False             False       False   \n",
       "...                   ...              ...               ...         ...   \n",
       "2124                False            False             False       False   \n",
       "2125                False            False             False       False   \n",
       "2126                False            False              True       False   \n",
       "2127                False            False              True       False   \n",
       "2128                False            False             False       False   \n",
       "\n",
       "      company_size  company_type  last_new_job  training_hours  \n",
       "0            False          True         False           False  \n",
       "1             True         False         False           False  \n",
       "2             True         False         False           False  \n",
       "3            False         False         False           False  \n",
       "4            False         False         False           False  \n",
       "...            ...           ...           ...             ...  \n",
       "2124          True         False         False           False  \n",
       "2125          True          True         False           False  \n",
       "2126          True         False         False           False  \n",
       "2127         False         False         False           False  \n",
       "2128         False         False         False           False  \n",
       "\n",
       "[2129 rows x 13 columns]"
      ]
     },
     "execution_count": 51,
     "metadata": {},
     "output_type": "execute_result"
    }
   ],
   "source": [
    "df.isnull()"
   ]
  },
  {
   "cell_type": "code",
   "execution_count": 52,
   "id": "203e78a9",
   "metadata": {},
   "outputs": [
    {
     "data": {
      "text/plain": [
       "enrollee_id                 0\n",
       "city                        0\n",
       "city_development_index      0\n",
       "gender                    508\n",
       "relevent_experience         0\n",
       "enrolled_university        31\n",
       "education_level            52\n",
       "major_discipline          312\n",
       "experience                  5\n",
       "company_size              622\n",
       "company_type              634\n",
       "last_new_job               40\n",
       "training_hours              0\n",
       "dtype: int64"
      ]
     },
     "execution_count": 52,
     "metadata": {},
     "output_type": "execute_result"
    }
   ],
   "source": [
    "df.isnull().sum()"
   ]
  },
  {
   "cell_type": "markdown",
   "id": "6391206e",
   "metadata": {},
   "source": [
    "### Clean the NUll values\n",
    "\n",
    "##### Approach-1 : Delete the records or columns with null value\n",
    "    ** When Null values are very low as compare to number of total records.\n",
    "    ** Delete the column when more than 70% of the data is Null."
   ]
  },
  {
   "cell_type": "code",
   "execution_count": 53,
   "id": "188e0214",
   "metadata": {},
   "outputs": [],
   "source": [
    "df1=df.copy()\n",
    "df1.dropna(inplace=True)"
   ]
  },
  {
   "cell_type": "code",
   "execution_count": 54,
   "id": "9158e768",
   "metadata": {},
   "outputs": [
    {
     "data": {
      "text/plain": [
       "enrollee_id               0\n",
       "city                      0\n",
       "city_development_index    0\n",
       "gender                    0\n",
       "relevent_experience       0\n",
       "enrolled_university       0\n",
       "education_level           0\n",
       "major_discipline          0\n",
       "experience                0\n",
       "company_size              0\n",
       "company_type              0\n",
       "last_new_job              0\n",
       "training_hours            0\n",
       "dtype: int64"
      ]
     },
     "execution_count": 54,
     "metadata": {},
     "output_type": "execute_result"
    }
   ],
   "source": [
    "df1.isnull().sum()"
   ]
  },
  {
   "cell_type": "code",
   "execution_count": 55,
   "id": "04ecf946",
   "metadata": {},
   "outputs": [
    {
     "data": {
      "text/plain": [
       "(1019, 13)"
      ]
     },
     "execution_count": 55,
     "metadata": {},
     "output_type": "execute_result"
    }
   ],
   "source": [
    "df1.shape"
   ]
  },
  {
   "cell_type": "code",
   "execution_count": 56,
   "id": "642c4758",
   "metadata": {},
   "outputs": [
    {
     "data": {
      "text/plain": [
       "(2129, 13)"
      ]
     },
     "execution_count": 56,
     "metadata": {},
     "output_type": "execute_result"
    }
   ],
   "source": [
    "df.shape"
   ]
  },
  {
   "cell_type": "raw",
   "id": "c8be024a",
   "metadata": {},
   "source": [
    "** .dropna() is used to remove missing values (NaNs).\n",
    "\n",
    "** axis=1 means you're dropping columns (not rows).\n",
    "\n",
    "** inplace=True means the operation is done directly on df2 — it does not return a new DataFrame, but modifies df2 in place."
   ]
  },
  {
   "cell_type": "code",
   "execution_count": 57,
   "id": "1c2018e3",
   "metadata": {},
   "outputs": [],
   "source": [
    "# not all columns from the original df will be printed — only the ones that were completely filled (no NaNs)\n",
    "df2=df.copy()\n",
    "df2.dropna(axis=1,inplace=True)"
   ]
  },
  {
   "cell_type": "code",
   "execution_count": 58,
   "id": "8baf93b6",
   "metadata": {},
   "outputs": [
    {
     "data": {
      "text/plain": [
       "Index(['enrollee_id', 'city', 'city_development_index', 'relevent_experience',\n",
       "       'training_hours'],\n",
       "      dtype='object')"
      ]
     },
     "execution_count": 58,
     "metadata": {},
     "output_type": "execute_result"
    }
   ],
   "source": [
    "df2.columns"
   ]
  },
  {
   "cell_type": "code",
   "execution_count": 59,
   "id": "bc26cf43",
   "metadata": {},
   "outputs": [
    {
     "data": {
      "text/plain": [
       "(2129, 5)"
      ]
     },
     "execution_count": 59,
     "metadata": {},
     "output_type": "execute_result"
    }
   ],
   "source": [
    "df2.shape"
   ]
  },
  {
   "cell_type": "code",
   "execution_count": 60,
   "id": "18d16b4a",
   "metadata": {},
   "outputs": [
    {
     "data": {
      "text/plain": [
       "508"
      ]
     },
     "execution_count": 60,
     "metadata": {},
     "output_type": "execute_result"
    }
   ],
   "source": [
    "# using Quartile\n",
    "df3=df.copy()\n",
    "Null_percentage=df3.gender.isnull().sum()/len(df3)\n",
    "if Null_percentage > 0.70:\n",
    "    df3.dropna(axis=1,inplace=True)\n",
    "df3.gender.isnull().sum()"
   ]
  },
  {
   "cell_type": "markdown",
   "id": "83dbd9ce",
   "metadata": {},
   "source": [
    "## Apporach-2 :\n",
    "\n",
    "#### Fill some value in place of Null Values:\n",
    "\n",
    "** Filling Constant Value\n",
    "\n",
    "** Filling mean,median,mode\n",
    "\n",
    " #### When to Use Mean:\n",
    "\n",
    "** Data is numeric and continuous.\n",
    "\n",
    "** Data is normally distributed (symmetric).\n",
    "\n",
    "** Not sensitive to outliers.\n",
    "\n",
    "#### When to Use Median:\n",
    "\n",
    "** Data contains outliers.\n",
    "\n",
    "** Data is skewed (not normally distributed).\n",
    "\n",
    "#### When to Use Mode:\n",
    "\n",
    "** Categorical data.\n",
    "\n",
    "** Discrete data with repeated values.\n"
   ]
  },
  {
   "cell_type": "markdown",
   "id": "6f88f0f4",
   "metadata": {},
   "source": [
    "### Fill some value in place of Null Values:\n",
    "\n",
    "** Filling Constant Value"
   ]
  },
  {
   "cell_type": "code",
   "execution_count": 61,
   "id": "59164316",
   "metadata": {},
   "outputs": [],
   "source": [
    "df5=df.copy()"
   ]
  },
  {
   "cell_type": "code",
   "execution_count": 62,
   "id": "265912cc",
   "metadata": {},
   "outputs": [
    {
     "data": {
      "text/plain": [
       "enrollee_id                 0\n",
       "city                        0\n",
       "city_development_index      0\n",
       "gender                    508\n",
       "relevent_experience         0\n",
       "enrolled_university        31\n",
       "education_level            52\n",
       "major_discipline          312\n",
       "experience                  5\n",
       "company_size              622\n",
       "company_type              634\n",
       "last_new_job               40\n",
       "training_hours              0\n",
       "dtype: int64"
      ]
     },
     "execution_count": 62,
     "metadata": {},
     "output_type": "execute_result"
    }
   ],
   "source": [
    "df5.isnull().sum()"
   ]
  },
  {
   "cell_type": "code",
   "execution_count": 63,
   "id": "34b9db00",
   "metadata": {},
   "outputs": [
    {
     "data": {
      "text/html": [
       "<div>\n",
       "<style scoped>\n",
       "    .dataframe tbody tr th:only-of-type {\n",
       "        vertical-align: middle;\n",
       "    }\n",
       "\n",
       "    .dataframe tbody tr th {\n",
       "        vertical-align: top;\n",
       "    }\n",
       "\n",
       "    .dataframe thead th {\n",
       "        text-align: right;\n",
       "    }\n",
       "</style>\n",
       "<table border=\"1\" class=\"dataframe\">\n",
       "  <thead>\n",
       "    <tr style=\"text-align: right;\">\n",
       "      <th></th>\n",
       "      <th>city</th>\n",
       "      <th>gender</th>\n",
       "    </tr>\n",
       "  </thead>\n",
       "  <tbody>\n",
       "    <tr>\n",
       "      <th>2110</th>\n",
       "      <td>city_24</td>\n",
       "      <td>other</td>\n",
       "    </tr>\n",
       "    <tr>\n",
       "      <th>2111</th>\n",
       "      <td>city_16</td>\n",
       "      <td>other</td>\n",
       "    </tr>\n",
       "    <tr>\n",
       "      <th>2114</th>\n",
       "      <td>city_73</td>\n",
       "      <td>other</td>\n",
       "    </tr>\n",
       "    <tr>\n",
       "      <th>2119</th>\n",
       "      <td>city_70</td>\n",
       "      <td>other</td>\n",
       "    </tr>\n",
       "    <tr>\n",
       "      <th>2122</th>\n",
       "      <td>city_90</td>\n",
       "      <td>other</td>\n",
       "    </tr>\n",
       "  </tbody>\n",
       "</table>\n",
       "</div>"
      ],
      "text/plain": [
       "         city gender\n",
       "2110  city_24  other\n",
       "2111  city_16  other\n",
       "2114  city_73  other\n",
       "2119  city_70  other\n",
       "2122  city_90  other"
      ]
     },
     "execution_count": 63,
     "metadata": {},
     "output_type": "execute_result"
    }
   ],
   "source": [
    "# display the rows where education_level was previously NaN (now should be 'other')\n",
    "df5['gender'].fillna('other', inplace=True)\n",
    "filled_education_level = df5[df5['gender'] == 'other'].tail()\n",
    "filled_education_level[['city', 'gender']]"
   ]
  },
  {
   "cell_type": "code",
   "execution_count": 64,
   "id": "f3d733d3",
   "metadata": {},
   "outputs": [
    {
     "data": {
      "text/html": [
       "<div>\n",
       "<style scoped>\n",
       "    .dataframe tbody tr th:only-of-type {\n",
       "        vertical-align: middle;\n",
       "    }\n",
       "\n",
       "    .dataframe tbody tr th {\n",
       "        vertical-align: top;\n",
       "    }\n",
       "\n",
       "    .dataframe thead th {\n",
       "        text-align: right;\n",
       "    }\n",
       "</style>\n",
       "<table border=\"1\" class=\"dataframe\">\n",
       "  <thead>\n",
       "    <tr style=\"text-align: right;\">\n",
       "      <th></th>\n",
       "      <th>enrollee_id</th>\n",
       "      <th>education_level</th>\n",
       "    </tr>\n",
       "  </thead>\n",
       "  <tbody>\n",
       "    <tr>\n",
       "      <th>19</th>\n",
       "      <td>29033</td>\n",
       "      <td>Unknown</td>\n",
       "    </tr>\n",
       "    <tr>\n",
       "      <th>32</th>\n",
       "      <td>22849</td>\n",
       "      <td>Unknown</td>\n",
       "    </tr>\n",
       "    <tr>\n",
       "      <th>53</th>\n",
       "      <td>4742</td>\n",
       "      <td>Unknown</td>\n",
       "    </tr>\n",
       "    <tr>\n",
       "      <th>57</th>\n",
       "      <td>10418</td>\n",
       "      <td>Unknown</td>\n",
       "    </tr>\n",
       "    <tr>\n",
       "      <th>86</th>\n",
       "      <td>22501</td>\n",
       "      <td>Unknown</td>\n",
       "    </tr>\n",
       "  </tbody>\n",
       "</table>\n",
       "</div>"
      ],
      "text/plain": [
       "    enrollee_id education_level\n",
       "19        29033         Unknown\n",
       "32        22849         Unknown\n",
       "53         4742         Unknown\n",
       "57        10418         Unknown\n",
       "86        22501         Unknown"
      ]
     },
     "execution_count": 64,
     "metadata": {},
     "output_type": "execute_result"
    }
   ],
   "source": [
    "# display the rows where education_level was previously NaN (now should be 'Unknown')\n",
    "df5['education_level'].fillna('Unknown', inplace=True)\n",
    "filled_education_level = df5[df5['education_level'] == 'Unknown'].head()\n",
    "filled_education_level[['enrollee_id', 'education_level']]"
   ]
  },
  {
   "cell_type": "code",
   "execution_count": 65,
   "id": "9004005e",
   "metadata": {},
   "outputs": [],
   "source": [
    "df4=df.copy()"
   ]
  },
  {
   "cell_type": "code",
   "execution_count": 66,
   "id": "b56b3cbd",
   "metadata": {},
   "outputs": [
    {
     "data": {
      "text/plain": [
       "enrollee_id                 int64\n",
       "city                       object\n",
       "city_development_index    float64\n",
       "gender                     object\n",
       "relevent_experience        object\n",
       "enrolled_university        object\n",
       "education_level            object\n",
       "major_discipline           object\n",
       "experience                 object\n",
       "company_size               object\n",
       "company_type               object\n",
       "last_new_job               object\n",
       "training_hours              int64\n",
       "dtype: object"
      ]
     },
     "execution_count": 66,
     "metadata": {},
     "output_type": "execute_result"
    }
   ],
   "source": [
    "df4.dtypes"
   ]
  },
  {
   "cell_type": "code",
   "execution_count": 67,
   "id": "98ae5934",
   "metadata": {},
   "outputs": [
    {
     "data": {
      "text/plain": [
       "enrollee_id                 0\n",
       "city                        0\n",
       "city_development_index      0\n",
       "gender                    508\n",
       "relevent_experience         0\n",
       "enrolled_university        31\n",
       "education_level            52\n",
       "major_discipline          312\n",
       "experience                  5\n",
       "company_size              622\n",
       "company_type              634\n",
       "last_new_job               40\n",
       "training_hours              0\n",
       "dtype: int64"
      ]
     },
     "execution_count": 67,
     "metadata": {},
     "output_type": "execute_result"
    }
   ],
   "source": [
    "df4.isnull().sum()"
   ]
  },
  {
   "cell_type": "markdown",
   "id": "b644f20d",
   "metadata": {},
   "source": [
    "#### \"In my dataset, all the categorical data have null values, so I've imputed them with the mode.\"\n"
   ]
  },
  {
   "cell_type": "code",
   "execution_count": 68,
   "id": "ee485633",
   "metadata": {},
   "outputs": [],
   "source": [
    "# Fill all categorical NaNs with their respective mode values\n",
    "df4.fillna(df.mode().iloc[0], inplace=True)"
   ]
  },
  {
   "cell_type": "code",
   "execution_count": 69,
   "id": "4d9a5eb6",
   "metadata": {},
   "outputs": [
    {
     "data": {
      "text/plain": [
       "enrollee_id               0\n",
       "city                      0\n",
       "city_development_index    0\n",
       "gender                    0\n",
       "relevent_experience       0\n",
       "enrolled_university       0\n",
       "education_level           0\n",
       "major_discipline          0\n",
       "experience                0\n",
       "company_size              0\n",
       "company_type              0\n",
       "last_new_job              0\n",
       "training_hours            0\n",
       "dtype: int64"
      ]
     },
     "execution_count": 69,
     "metadata": {},
     "output_type": "execute_result"
    }
   ],
   "source": [
    "df4.isnull().sum()"
   ]
  },
  {
   "cell_type": "code",
   "execution_count": 70,
   "id": "6f81f4a1",
   "metadata": {},
   "outputs": [
    {
     "data": {
      "text/plain": [
       "16816.0"
      ]
     },
     "execution_count": 70,
     "metadata": {},
     "output_type": "execute_result"
    }
   ],
   "source": [
    "median_value = df4.enrollee_id.median()\n",
    "median_value"
   ]
  },
  {
   "cell_type": "code",
   "execution_count": 71,
   "id": "0f9b92e6",
   "metadata": {},
   "outputs": [
    {
     "data": {
      "text/plain": [
       "enrollee_id               0\n",
       "city                      0\n",
       "city_development_index    0\n",
       "gender                    0\n",
       "relevent_experience       0\n",
       "enrolled_university       0\n",
       "education_level           0\n",
       "major_discipline          0\n",
       "experience                0\n",
       "company_size              0\n",
       "company_type              0\n",
       "last_new_job              0\n",
       "training_hours            0\n",
       "dtype: int64"
      ]
     },
     "execution_count": 71,
     "metadata": {},
     "output_type": "execute_result"
    }
   ],
   "source": [
    "df4[\"enrollee_id\"] = df4.enrollee_id.fillna(median_value)\n",
    "df4.isnull().sum()"
   ]
  },
  {
   "cell_type": "markdown",
   "id": "963f8f2a",
   "metadata": {},
   "source": [
    "#### Approach-3 : bfill / ffill methods\n",
    "** bfill(backward fill) propagates the next valid value backward to fill null values.\n",
    "\n",
    "** ffill(forward fill) propagates the next valid value forward to fill null values."
   ]
  },
  {
   "cell_type": "code",
   "execution_count": 72,
   "id": "46511567",
   "metadata": {},
   "outputs": [],
   "source": [
    "df5=df.copy()"
   ]
  },
  {
   "cell_type": "code",
   "execution_count": 73,
   "id": "16ddd09f",
   "metadata": {},
   "outputs": [
    {
     "data": {
      "text/plain": [
       "enrollee_id                 0\n",
       "city                        0\n",
       "city_development_index      0\n",
       "gender                    508\n",
       "relevent_experience         0\n",
       "enrolled_university        31\n",
       "education_level            52\n",
       "major_discipline          312\n",
       "experience                  5\n",
       "company_size              622\n",
       "company_type              634\n",
       "last_new_job               40\n",
       "training_hours              0\n",
       "dtype: int64"
      ]
     },
     "execution_count": 73,
     "metadata": {},
     "output_type": "execute_result"
    }
   ],
   "source": [
    "df5.isnull().sum()"
   ]
  },
  {
   "cell_type": "code",
   "execution_count": 74,
   "id": "7c409ce4",
   "metadata": {},
   "outputs": [],
   "source": [
    "df5=df5.ffill()"
   ]
  },
  {
   "cell_type": "code",
   "execution_count": 75,
   "id": "4f72eef2",
   "metadata": {},
   "outputs": [
    {
     "data": {
      "text/plain": [
       "enrollee_id               0\n",
       "city                      0\n",
       "city_development_index    0\n",
       "gender                    0\n",
       "relevent_experience       0\n",
       "enrolled_university       0\n",
       "education_level           0\n",
       "major_discipline          0\n",
       "experience                0\n",
       "company_size              0\n",
       "company_type              1\n",
       "last_new_job              0\n",
       "training_hours            0\n",
       "dtype: int64"
      ]
     },
     "execution_count": 75,
     "metadata": {},
     "output_type": "execute_result"
    }
   ],
   "source": [
    "df5.isnull().sum()"
   ]
  },
  {
   "cell_type": "code",
   "execution_count": 76,
   "id": "1e81ddd6",
   "metadata": {},
   "outputs": [],
   "source": [
    "df6=df.copy()"
   ]
  },
  {
   "cell_type": "code",
   "execution_count": 77,
   "id": "7e34fee6",
   "metadata": {},
   "outputs": [
    {
     "data": {
      "text/plain": [
       "enrollee_id                 0\n",
       "city                        0\n",
       "city_development_index      0\n",
       "gender                    508\n",
       "relevent_experience         0\n",
       "enrolled_university        31\n",
       "education_level            52\n",
       "major_discipline          312\n",
       "experience                  5\n",
       "company_size              622\n",
       "company_type              634\n",
       "last_new_job               40\n",
       "training_hours              0\n",
       "dtype: int64"
      ]
     },
     "execution_count": 77,
     "metadata": {},
     "output_type": "execute_result"
    }
   ],
   "source": [
    "df6.isnull().sum()"
   ]
  },
  {
   "cell_type": "markdown",
   "id": "e7f24a08",
   "metadata": {},
   "source": [
    "#### To write the single column in bfill method"
   ]
  },
  {
   "cell_type": "code",
   "execution_count": 78,
   "id": "7aae1f6a",
   "metadata": {},
   "outputs": [
    {
     "data": {
      "text/plain": [
       "enrollee_id               0\n",
       "city                      0\n",
       "city_development_index    0\n",
       "gender                    0\n",
       "relevent_experience       0\n",
       "enrolled_university       0\n",
       "education_level           0\n",
       "major_discipline          0\n",
       "experience                0\n",
       "company_size              0\n",
       "company_type              0\n",
       "last_new_job              0\n",
       "training_hours            0\n",
       "dtype: int64"
      ]
     },
     "execution_count": 78,
     "metadata": {},
     "output_type": "execute_result"
    }
   ],
   "source": [
    "df6[\"gender\"]= df6.gender.bfill()\n",
    "df6[\"enrolled_university\"]= df6.enrolled_university.bfill()\n",
    "df6[\"education_level\"]= df6.education_level.bfill()\n",
    "df6[\"major_discipline\"]= df6.major_discipline.bfill()\n",
    "df6[\"experience\"]= df6.experience.bfill()\n",
    "df6[\"company_size\"]= df6.company_size.bfill()\n",
    "df6[\"company_type\"]= df6.company_type.bfill()\n",
    "df6[\"last_new_job\"]= df6.last_new_job.bfill()\n",
    "df6.isnull().sum()"
   ]
  },
  {
   "cell_type": "markdown",
   "id": "74905b6e",
   "metadata": {},
   "source": [
    "#### To write the entire dataframe in bfill method"
   ]
  },
  {
   "cell_type": "code",
   "execution_count": 79,
   "id": "9d326530",
   "metadata": {},
   "outputs": [
    {
     "data": {
      "text/plain": [
       "enrollee_id               0\n",
       "city                      0\n",
       "city_development_index    0\n",
       "gender                    0\n",
       "relevent_experience       0\n",
       "enrolled_university       0\n",
       "education_level           0\n",
       "major_discipline          0\n",
       "experience                0\n",
       "company_size              0\n",
       "company_type              0\n",
       "last_new_job              0\n",
       "training_hours            0\n",
       "dtype: int64"
      ]
     },
     "execution_count": 79,
     "metadata": {},
     "output_type": "execute_result"
    }
   ],
   "source": [
    "df6 = df6.fillna(method='bfill')\n",
    "df6.isnull().sum()"
   ]
  },
  {
   "cell_type": "markdown",
   "id": "4ce599c1",
   "metadata": {},
   "source": [
    "### Identifying  duplicate values\n",
    "\n",
    "This involves finding duplicate rows or records that can skew analysis.\n",
    "\n",
    "In my no duplicate values.you have duplicate values you can use these formula."
   ]
  },
  {
   "cell_type": "code",
   "execution_count": 80,
   "id": "675dfffe",
   "metadata": {},
   "outputs": [],
   "source": [
    "df7 = df.copy()"
   ]
  },
  {
   "cell_type": "code",
   "execution_count": 81,
   "id": "361c5e66",
   "metadata": {},
   "outputs": [
    {
     "data": {
      "text/html": [
       "<div>\n",
       "<style scoped>\n",
       "    .dataframe tbody tr th:only-of-type {\n",
       "        vertical-align: middle;\n",
       "    }\n",
       "\n",
       "    .dataframe tbody tr th {\n",
       "        vertical-align: top;\n",
       "    }\n",
       "\n",
       "    .dataframe thead th {\n",
       "        text-align: right;\n",
       "    }\n",
       "</style>\n",
       "<table border=\"1\" class=\"dataframe\">\n",
       "  <thead>\n",
       "    <tr style=\"text-align: right;\">\n",
       "      <th></th>\n",
       "      <th>enrollee_id</th>\n",
       "      <th>city</th>\n",
       "      <th>city_development_index</th>\n",
       "      <th>gender</th>\n",
       "      <th>relevent_experience</th>\n",
       "      <th>enrolled_university</th>\n",
       "      <th>education_level</th>\n",
       "      <th>major_discipline</th>\n",
       "      <th>experience</th>\n",
       "      <th>company_size</th>\n",
       "      <th>company_type</th>\n",
       "      <th>last_new_job</th>\n",
       "      <th>training_hours</th>\n",
       "    </tr>\n",
       "  </thead>\n",
       "  <tbody>\n",
       "  </tbody>\n",
       "</table>\n",
       "</div>"
      ],
      "text/plain": [
       "Empty DataFrame\n",
       "Columns: [enrollee_id, city, city_development_index, gender, relevent_experience, enrolled_university, education_level, major_discipline, experience, company_size, company_type, last_new_job, training_hours]\n",
       "Index: []"
      ]
     },
     "execution_count": 81,
     "metadata": {},
     "output_type": "execute_result"
    }
   ],
   "source": [
    "# In my dataset no duplicated values\n",
    "df7.duplicated().sum()\n",
    "df7[df7.duplicated()]"
   ]
  },
  {
   "cell_type": "markdown",
   "id": "819b6358",
   "metadata": {},
   "source": [
    "### Drop the duplicate analysis\n",
    "This involves removing duplicate rows or records to prevent skewing analysis.\n",
    "\n",
    "In my dataset no duplicates."
   ]
  },
  {
   "cell_type": "code",
   "execution_count": 82,
   "id": "9e6a4817",
   "metadata": {},
   "outputs": [
    {
     "data": {
      "text/plain": [
       "(2129, 13)"
      ]
     },
     "execution_count": 82,
     "metadata": {},
     "output_type": "execute_result"
    }
   ],
   "source": [
    "df.shape"
   ]
  },
  {
   "cell_type": "code",
   "execution_count": 83,
   "id": "0190aaf6",
   "metadata": {},
   "outputs": [],
   "source": [
    "df8 = df.copy()"
   ]
  },
  {
   "cell_type": "code",
   "execution_count": 84,
   "id": "92d1aa50",
   "metadata": {},
   "outputs": [],
   "source": [
    "# Drop duplicates (none in this dataset)\n",
    "df8.drop_duplicates(inplace=True)"
   ]
  },
  {
   "cell_type": "code",
   "execution_count": 85,
   "id": "8f60cbfe",
   "metadata": {},
   "outputs": [
    {
     "data": {
      "text/plain": [
       "(2129, 13)"
      ]
     },
     "execution_count": 85,
     "metadata": {},
     "output_type": "execute_result"
    }
   ],
   "source": [
    "df8.shape"
   ]
  },
  {
   "cell_type": "markdown",
   "id": "c4f15b09",
   "metadata": {},
   "source": [
    "### Identify Outlier\n",
    "This involves detecting data points that are significantly different from the rest.\n",
    "\n",
    "IQR (Inter quartile range)=Q3-Q1\n",
    "\n",
    "Q1(First Quartile , 25th)\n",
    "\n",
    "Q3(Third Quartile , 75th)\n",
    "\n",
    "Lower bound = Q1 - 1.5 * IQR\n",
    "\n",
    "Upperr bound = Q3 + 1.5 * IQR\n",
    "\n",
    "In my dataset Outliers detected in training_hours."
   ]
  },
  {
   "cell_type": "code",
   "execution_count": 86,
   "id": "f75d39d9",
   "metadata": {},
   "outputs": [],
   "source": [
    "df9 = df.copy()"
   ]
  },
  {
   "cell_type": "code",
   "execution_count": 87,
   "id": "767240cd",
   "metadata": {},
   "outputs": [
    {
     "data": {
      "image/png": "[encoded data removed]",
      "text/plain": [
       "<Figure size 640x480 with 1 Axes>"
      ]
     },
     "metadata": {},
     "output_type": "display_data"
    }
   ],
   "source": [
    "sns.boxplot(x=df9['training_hours'])\n",
    "plt.title(\"Boxplot of Training Hours\")\n",
    "plt.show()"
   ]
  },
  {
   "cell_type": "markdown",
   "id": "096cbacb",
   "metadata": {},
   "source": [
    "### Insights :\n",
    "\n",
    "The plot shows :\n",
    "    \n",
    "x-axis : training_hours\n",
    "    \n",
    "Training Hours (Boxplot):\n",
    "\n",
    "Most employees get 25–95 hours of training.\n",
    "\n",
    "Median is around 50–55 hours.\n",
    "\n",
    "Many outliers above 200 hours.\n",
    "\n"
   ]
  },
  {
   "cell_type": "markdown",
   "id": "83611ab0",
   "metadata": {},
   "source": [
    "#### Calculate the Quantiles"
   ]
  },
  {
   "cell_type": "code",
   "execution_count": 88,
   "id": "ef8d6569",
   "metadata": {},
   "outputs": [
    {
     "name": "stdout",
     "output_type": "stream",
     "text": [
      "23.0\n",
      "86.0\n"
     ]
    }
   ],
   "source": [
    "Q1 = df9.training_hours.quantile(.25)\n",
    "Q3 = df9.training_hours.quantile(.75)\n",
    "\n",
    "print(Q1)\n",
    "print(Q3)"
   ]
  },
  {
   "cell_type": "markdown",
   "id": "0bd6625d",
   "metadata": {},
   "source": [
    "#### Calculate the Inter Quantile Range(IQR)"
   ]
  },
  {
   "cell_type": "code",
   "execution_count": 89,
   "id": "b49cfb74",
   "metadata": {},
   "outputs": [
    {
     "name": "stdout",
     "output_type": "stream",
     "text": [
      "63.0\n"
     ]
    }
   ],
   "source": [
    "IQR = Q3 - Q1\n",
    "print(IQR)"
   ]
  },
  {
   "cell_type": "markdown",
   "id": "68cc9b19",
   "metadata": {},
   "source": [
    "#### Calculate the lower_bound , upper_bound"
   ]
  },
  {
   "cell_type": "code",
   "execution_count": 90,
   "id": "609fa0d4",
   "metadata": {},
   "outputs": [
    {
     "name": "stdout",
     "output_type": "stream",
     "text": [
      "-71.5\n",
      "180.5\n"
     ]
    }
   ],
   "source": [
    "lower_bound = Q1 -1.5 * IQR\n",
    "print(lower_bound)\n",
    "upper_bound = Q3 + 1.5 * IQR\n",
    "print(upper_bound)"
   ]
  },
  {
   "cell_type": "markdown",
   "id": "0a50befe",
   "metadata": {},
   "source": [
    "#### Calculate the ouliers \"training_hours\" in between lower_bound to upper_bound\n"
   ]
  },
  {
   "cell_type": "code",
   "execution_count": 91,
   "id": "dcc1b9a2",
   "metadata": {},
   "outputs": [
    {
     "name": "stdout",
     "output_type": "stream",
     "text": [
      "10      196\n",
      "46      270\n",
      "70      188\n",
      "71      182\n",
      "72      282\n",
      "       ... \n",
      "1937    300\n",
      "1950    248\n",
      "1959    192\n",
      "2004    194\n",
      "2054    258\n",
      "Name: training_hours, Length: 122, dtype: int64\n"
     ]
    }
   ],
   "source": [
    "outliers = df[\"training_hours\"][(df.training_hours < lower_bound) | (df.training_hours > upper_bound)]\n",
    "print(outliers)"
   ]
  },
  {
   "cell_type": "markdown",
   "id": "286be060",
   "metadata": {},
   "source": [
    "#### In my dataset how many outliers using these formula"
   ]
  },
  {
   "cell_type": "code",
   "execution_count": 92,
   "id": "b9c65994",
   "metadata": {},
   "outputs": [
    {
     "data": {
      "text/plain": [
       "122"
      ]
     },
     "execution_count": 92,
     "metadata": {},
     "output_type": "execute_result"
    }
   ],
   "source": [
    "outliers.count()"
   ]
  },
  {
   "cell_type": "markdown",
   "id": "00ba10ca",
   "metadata": {},
   "source": [
    "### Trimming Outliers\n",
    "\n",
    "This involves deciding how to handle outliers, such as removing or transforming them."
   ]
  },
  {
   "cell_type": "code",
   "execution_count": 93,
   "id": "98ebbd1a",
   "metadata": {},
   "outputs": [],
   "source": [
    "df10 = df.copy()"
   ]
  },
  {
   "cell_type": "markdown",
   "id": "2d5f4c90",
   "metadata": {},
   "source": [
    "#### Method-1"
   ]
  },
  {
   "cell_type": "code",
   "execution_count": 94,
   "id": "1c1075ed",
   "metadata": {},
   "outputs": [
    {
     "data": {
      "text/plain": [
       "array([ 21,  98,  15,  39,  72,  12,  11,  81,   2,   4,  51,  48, 134,\n",
       "        10, 125,  31,  23, 110,  74,  44,  33,  19,  65,  46,  78, 105,\n",
       "        29,  43,  18,   8, 145,  22,   9,  20, 130,   3,  49,  35,  87,\n",
       "        37, 158, 114,  40,  91,  14, 132, 124,  80,  84,  59, 116,  34,\n",
       "        64,  77,  56,  73,  30,  66, 100,  32,  28,  99,  41, 144,  47,\n",
       "        36,  55,   5,  58,   7,  42,  95,  17,  54,  50, 135,  27,  24,\n",
       "       120,  61, 139, 154,  96,  76, 156, 102,  88,  13, 101, 178,  68,\n",
       "        70,  16, 152, 138, 128,  53,  52,  67, 118,  26, 174,  71,  60,\n",
       "        82, 119,  85,  86,  38,  57, 107, 103, 109, 150,  25,  62,  89,\n",
       "       112, 167,  45, 106,  92, 163, 108,  90,  83, 166, 148, 168, 104,\n",
       "       127,  75, 113, 170,  63, 136, 160, 141,  94, 172, 180,   6, 122,\n",
       "       111,  97, 176, 129,  79,  69, 151, 146,   1, 140, 123, 155, 121,\n",
       "       131, 157, 149, 147, 133, 165, 117, 126, 162, 142], dtype=int64)"
      ]
     },
     "execution_count": 94,
     "metadata": {},
     "output_type": "execute_result"
    }
   ],
   "source": [
    "df10 = df10[(df10['training_hours'] >= lower_bound) & (df10['training_hours'] <= upper_bound)]\n",
    "df10.training_hours.unique()"
   ]
  },
  {
   "cell_type": "markdown",
   "id": "523963f0",
   "metadata": {},
   "source": [
    "#### Method-2\n",
    "\n",
    "To find the outliers using \"Z-score\"\n",
    "\n",
    "###### Z-score = (data - mean) /SD"
   ]
  },
  {
   "cell_type": "code",
   "execution_count": 95,
   "id": "15a8c7d1",
   "metadata": {},
   "outputs": [
    {
     "data": {
      "text/plain": [
       "0      -0.730147\n",
       "1       0.548102\n",
       "2      -0.829751\n",
       "3      -0.431336\n",
       "4       0.116485\n",
       "          ...   \n",
       "2124   -0.829751\n",
       "2125   -0.580742\n",
       "2126   -0.779949\n",
       "2127    0.315693\n",
       "2128   -0.896154\n",
       "Name: z_score, Length: 2129, dtype: float64"
      ]
     },
     "execution_count": 95,
     "metadata": {},
     "output_type": "execute_result"
    }
   ],
   "source": [
    "df11 = df.copy()\n",
    "df11[\"z_score\"] = (df11[\"training_hours\"]-df11.training_hours.mean()) / df11.training_hours.std()\n",
    "df11[\"z_score\"]"
   ]
  },
  {
   "cell_type": "code",
   "execution_count": 96,
   "id": "a75c4a3b",
   "metadata": {},
   "outputs": [
    {
     "data": {
      "text/plain": [
       "array([ 21,  98,  15,  39,  72,  12,  11,  81,   2,   4, 196,  51,  48,\n",
       "       134,  10, 125,  31,  23, 110,  74,  44,  33,  19,  65,  46,  78,\n",
       "       105,  29,  43,  18,   8, 145,  22,   9,  20, 130,   3,  49,  35,\n",
       "        87,  37, 158, 114,  40,  91,  14, 132, 124,  80, 188, 182,  84,\n",
       "        59, 116,  34,  64,  77,  56,  73,  30,  66, 100,  32,  28,  99,\n",
       "        41, 144,  47,  36,  55,   5,  58,   7,  42,  95,  17,  54,  50,\n",
       "       135,  27,  24, 120,  61, 139, 154,  96,  76, 156, 102,  88,  13,\n",
       "       101, 178, 200,  68,  70,  16, 152, 138, 128, 204,  53,  52,  67,\n",
       "       118,  26, 174,  71, 202,  60,  82, 194, 119,  85,  86,  38, 212,\n",
       "        57, 107, 103, 109, 150,  25,  62,  89, 112, 167,  45, 106,  92,\n",
       "       163, 108,  90,  83, 166, 148, 168, 104, 234, 127,  75, 113, 170,\n",
       "        63, 220, 222, 136, 160, 226, 141,  94, 190, 206, 172, 180,   6,\n",
       "       122, 214, 111,  97, 184, 218, 176, 129,  79,  69, 151, 146, 232,\n",
       "         1, 140, 123, 155, 216, 192, 224, 228, 121, 210, 244, 131, 157,\n",
       "       149, 147, 133, 165, 117, 126, 162, 142], dtype=int64)"
      ]
     },
     "execution_count": 96,
     "metadata": {},
     "output_type": "execute_result"
    }
   ],
   "source": [
    "# Filter data within 3 standard deviations\n",
    "df11 = df11[(df11.z_score > -3) & (df11.z_score < 3)]\n",
    "df11.training_hours.unique()"
   ]
  },
  {
   "cell_type": "markdown",
   "id": "18e64861",
   "metadata": {},
   "source": [
    "### Clipping method for removing outliers"
   ]
  },
  {
   "cell_type": "code",
   "execution_count": 97,
   "id": "0f783e4a",
   "metadata": {},
   "outputs": [],
   "source": [
    "df12 = df.copy()"
   ]
  },
  {
   "cell_type": "code",
   "execution_count": 98,
   "id": "20deb607",
   "metadata": {},
   "outputs": [
    {
     "data": {
      "text/plain": [
       "array([21, 75, 20, 39, 72, 51, 48, 31, 23, 74, 44, 33, 65, 46, 29, 43, 22,\n",
       "       49, 35, 37, 40, 59, 34, 64, 56, 73, 30, 66, 32, 28, 41, 47, 36, 55,\n",
       "       58, 42, 54, 50, 27, 24, 61, 68, 70, 53, 52, 67, 26, 71, 60, 38, 57,\n",
       "       25, 62, 45, 63, 69], dtype=int64)"
      ]
     },
     "execution_count": 98,
     "metadata": {},
     "output_type": "execute_result"
    }
   ],
   "source": [
    "df12[\"training_hours\"] = df.training_hours.clip(lower = 20 , upper = 75)\n",
    "df12.training_hours.unique()"
   ]
  },
  {
   "cell_type": "code",
   "execution_count": 99,
   "id": "5972e6cd",
   "metadata": {},
   "outputs": [
    {
     "data": {
      "text/plain": [
       "(2129, 13)"
      ]
     },
     "execution_count": 99,
     "metadata": {},
     "output_type": "execute_result"
    }
   ],
   "source": [
    "df12.shape"
   ]
  },
  {
   "cell_type": "code",
   "execution_count": 100,
   "id": "5e3dbb25",
   "metadata": {},
   "outputs": [
    {
     "data": {
      "text/plain": [
       "(2129,)"
      ]
     },
     "execution_count": 100,
     "metadata": {},
     "output_type": "execute_result"
    }
   ],
   "source": [
    "df12.training_hours.shape"
   ]
  },
  {
   "cell_type": "code",
   "execution_count": null,
   "id": "c766b680",
   "metadata": {},
   "outputs": [],
   "source": []
  }
 ],
 "metadata": {
  "kernelspec": {
   "display_name": "Python 3 (ipykernel)",
   "language": "python",
   "name": "python3"
  },
  "language_info": {
   "codemirror_mode": {
    "name": "ipython",
    "version": 3
   },
   "file_extension": ".py",
   "mimetype": "text/x-python",
   "name": "python",
   "nbconvert_exporter": "python",
   "pygments_lexer": "ipython3",
   "version": "3.9.13"
  }
 },
 "nbformat": 4,
 "nbformat_minor": 5
}
